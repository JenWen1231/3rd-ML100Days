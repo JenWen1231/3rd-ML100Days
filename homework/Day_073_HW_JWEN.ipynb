{
  "nbformat": 4,
  "nbformat_minor": 0,
  "metadata": {
    "colab": {
      "name": "Day_073_HW_JWEN.ipynb",
      "provenance": [],
      "collapsed_sections": []
    },
    "kernelspec": {
      "name": "python3",
      "display_name": "Python 3"
    },
    "accelerator": "GPU"
  },
  "cells": [
    {
      "cell_type": "code",
      "metadata": {
        "id": "n0fGXZqESKQm",
        "colab_type": "code",
        "colab": {}
      },
      "source": [
        "cur_x=3\n",
        "precision=0.000001\n",
        "max_iters=10000\n",
        "df=lambda x:2*(x+5)"
      ],
      "execution_count": 0,
      "outputs": []
    },
    {
      "cell_type": "code",
      "metadata": {
        "id": "vytIbkz3TE-g",
        "colab_type": "code",
        "colab": {}
      },
      "source": [
        "lr=[0.1,0.0001]\n",
        "previous_step_size=1\n",
        "iters=0\n",
        "\n",
        "iters_history=[iters]\n",
        "x_history=[cur_x]"
      ],
      "execution_count": 0,
      "outputs": []
    },
    {
      "cell_type": "code",
      "metadata": {
        "id": "M3CMYlfCS9C5",
        "colab_type": "code",
        "colab": {
          "base_uri": "https://localhost:8080/",
          "height": 1000
        },
        "outputId": "5a89d936-01ac-4592-b265-afd63f278fa2"
      },
      "source": [
        "while previous_step_size> precision and iters<max_iters:\n",
        "  for i in lr:\n",
        "    prev_x=cur_x\n",
        "    cur_x=cur_x-i*df(prev_x)\n",
        "    previous_step_size=abs(cur_x-prev_x)\n",
        "    print('Iteration',iters,'\\nX value is',cur_x)\n",
        "    iters_history.append(iters)\n",
        "    x_history.append(cur_x)\n",
        "    iters=iters+1"
      ],
      "execution_count": 24,
      "outputs": [
        {
          "output_type": "stream",
          "text": [
            "Iteration 0 \n",
            "X value is 1.4\n",
            "Iteration 1 \n",
            "X value is 1.39872\n",
            "Iteration 2 \n",
            "X value is 0.11897599999999997\n",
            "Iteration 3 \n",
            "X value is 0.11795220479999997\n",
            "Iteration 4 \n",
            "X value is -0.90563823616\n",
            "Iteration 5 \n",
            "X value is -0.9064571085127681\n",
            "Iteration 6 \n",
            "X value is -1.7251656868102145\n",
            "Iteration 7 \n",
            "X value is -1.7258206536728524\n",
            "Iteration 8 \n",
            "X value is -2.380656522938282\n",
            "Iteration 9 \n",
            "X value is -2.3811803916336944\n",
            "Iteration 10 \n",
            "X value is -2.9049443133069555\n",
            "Iteration 11 \n",
            "X value is -2.905363324444294\n",
            "Iteration 12 \n",
            "X value is -3.324290659555435\n",
            "Iteration 13 \n",
            "X value is -3.324625801423524\n",
            "Iteration 14 \n",
            "X value is -3.6597006411388193\n",
            "Iteration 15 \n",
            "X value is -3.6599687010105915\n",
            "Iteration 16 \n",
            "X value is -3.927974960808473\n",
            "Iteration 17 \n",
            "X value is -3.928189365816311\n",
            "Iteration 18 \n",
            "X value is -4.142551492653049\n",
            "Iteration 19 \n",
            "X value is -4.142722982354519\n",
            "Iteration 20 \n",
            "X value is -4.314178385883615\n",
            "Iteration 21 \n",
            "X value is -4.314315550206438\n",
            "Iteration 22 \n",
            "X value is -4.45145244016515\n",
            "Iteration 23 \n",
            "X value is -4.451562149677117\n",
            "Iteration 24 \n",
            "X value is -4.561249719741694\n",
            "Iteration 25 \n",
            "X value is -4.561337469797746\n",
            "Iteration 26 \n",
            "X value is -4.649069975838197\n",
            "Iteration 27 \n",
            "X value is -4.649140161843029\n",
            "Iteration 28 \n",
            "X value is -4.719312129474423\n",
            "Iteration 29 \n",
            "X value is -4.7193682670485275\n",
            "Iteration 30 \n",
            "X value is -4.775494613638822\n",
            "Iteration 31 \n",
            "X value is -4.775539514716094\n",
            "Iteration 32 \n",
            "X value is -4.820431611772875\n",
            "Iteration 33 \n",
            "X value is -4.82046752545052\n",
            "Iteration 34 \n",
            "X value is -4.856374020360416\n",
            "Iteration 35 \n",
            "X value is -4.856402745556344\n",
            "Iteration 36 \n",
            "X value is -4.885122196445075\n",
            "Iteration 37 \n",
            "X value is -4.885145172005786\n",
            "Iteration 38 \n",
            "X value is -4.908116137604629\n",
            "Iteration 39 \n",
            "X value is -4.908134514377108\n",
            "Iteration 40 \n",
            "X value is -4.926507611501686\n",
            "Iteration 41 \n",
            "X value is -4.926522309979386\n",
            "Iteration 42 \n",
            "X value is -4.941217847983508\n",
            "Iteration 43 \n",
            "X value is -4.941229604413912\n",
            "Iteration 44 \n",
            "X value is -4.952983683531129\n",
            "Iteration 45 \n",
            "X value is -4.9529930867944225\n",
            "Iteration 46 \n",
            "X value is -4.962394469435538\n",
            "Iteration 47 \n",
            "X value is -4.962401990541651\n",
            "Iteration 48 \n",
            "X value is -4.969921592433321\n",
            "Iteration 49 \n",
            "X value is -4.969927608114834\n",
            "Iteration 50 \n",
            "X value is -4.975942086491868\n",
            "Iteration 51 \n",
            "X value is -4.97594689807457\n",
            "Iteration 52 \n",
            "X value is -4.980757518459656\n",
            "Iteration 53 \n",
            "X value is -4.9807613669559645\n",
            "Iteration 54 \n",
            "X value is -4.984609093564772\n",
            "Iteration 55 \n",
            "X value is -4.9846121717460585\n",
            "Iteration 56 \n",
            "X value is -4.987689737396847\n",
            "Iteration 57 \n",
            "X value is -4.987692199449368\n",
            "Iteration 58 \n",
            "X value is -4.990153759559495\n",
            "Iteration 59 \n",
            "X value is -4.990155728807583\n",
            "Iteration 60 \n",
            "X value is -4.992124583046066\n",
            "Iteration 61 \n",
            "X value is -4.992126158129457\n",
            "Iteration 62 \n",
            "X value is -4.993700926503566\n",
            "Iteration 63 \n",
            "X value is -4.993702186318266\n",
            "Iteration 64 \n",
            "X value is -4.994961749054612\n",
            "Iteration 65 \n",
            "X value is -4.994962756704801\n",
            "Iteration 66 \n",
            "X value is -4.995970205363841\n",
            "Iteration 67 \n",
            "X value is -4.995971011322768\n"
          ],
          "name": "stdout"
        }
      ]
    },
    {
      "cell_type": "code",
      "metadata": {
        "id": "kGclIF4qUQ5t",
        "colab_type": "code",
        "colab": {
          "base_uri": "https://localhost:8080/",
          "height": 51
        },
        "outputId": "789e376d-4863-44e9-e0de-1b3ff0b7ea34"
      },
      "source": [
        "print('Total iterations:', iters)\n",
        "print('The local minimum occurs at', cur_x)"
      ],
      "execution_count": 25,
      "outputs": [
        {
          "output_type": "stream",
          "text": [
            "Total iterations: 68\n",
            "The local minimum occurs at -4.995971011322768\n"
          ],
          "name": "stdout"
        }
      ]
    },
    {
      "cell_type": "code",
      "metadata": {
        "id": "sdIKbBwLUlXt",
        "colab_type": "code",
        "colab": {
          "base_uri": "https://localhost:8080/",
          "height": 285
        },
        "outputId": "0309eb47-b54d-49fe-d492-a8fa795deb24"
      },
      "source": [
        "import matplotlib.pyplot as plt\n",
        "%matplotlib inline\n",
        "\n",
        "plt.plot(iters_history, x_history,'o-',ms=3,lw=1.5,color='black')\n",
        "plt.xlabel(r'$iters$',fontsize=16)\n",
        "plt.ylabel(r'$x$',fontsize=16)\n",
        "plt.show()"
      ],
      "execution_count": 26,
      "outputs": [
        {
          "output_type": "display_data",
          "data": {
            "image/png": "[encoded data removed]",
            "text/plain": [
              "<Figure size 432x288 with 1 Axes>"
            ]
          },
          "metadata": {
            "tags": []
          }
        }
      ]
    }
  ]
}