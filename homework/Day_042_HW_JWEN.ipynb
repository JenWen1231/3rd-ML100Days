{
 "cells": [
  {
   "cell_type": "code",
   "execution_count": 5,
   "metadata": {},
   "outputs": [
    {
     "name": "stdout",
     "output_type": "stream",
     "text": [
      "Classifier Accuracy Score: 0.8888888888888888\n",
      "Logistic Accuracy Score: 0.9444444444444444\n"
     ]
    },
    {
     "name": "stderr",
     "output_type": "stream",
     "text": [
      "C:\\Users\\jwen\\AppData\\Local\\Continuum\\anaconda3\\lib\\site-packages\\sklearn\\linear_model\\logistic.py:433: FutureWarning: Default solver will be changed to 'lbfgs' in 0.22. Specify a solver to silence this warning.\n",
      "  FutureWarning)\n",
      "C:\\Users\\jwen\\AppData\\Local\\Continuum\\anaconda3\\lib\\site-packages\\sklearn\\linear_model\\logistic.py:460: FutureWarning: Default multi_class will be changed to 'auto' in 0.22. Specify the multi_class option to silence this warning.\n",
      "  \"this warning.\", FutureWarning)\n"
     ]
    }
   ],
   "source": [
    "import numpy as np\n",
    "from sklearn import datasets,metrics\n",
    "from sklearn.tree import DecisionTreeClassifier\n",
    "from sklearn.model_selection import train_test_split\n",
    "from sklearn.linear_model import LogisticRegression\n",
    "\n",
    "#D42-2 Wine:\n",
    "\n",
    "wine=datasets.load_wine()\n",
    "\n",
    "x_train,x_test,y_train,y_test=train_test_split(wine.data,wine.target,test_size=0.1,random_state=4)\n",
    "clf=DecisionTreeClassifier()\n",
    "Logreg=LogisticRegression()\n",
    "\n",
    "clf.fit(x_train,y_train)\n",
    "y_pred_clf=clf.predict(x_test)\n",
    "\n",
    "Logreg.fit(x_train,y_train)\n",
    "y_pred_logreg=Logreg.predict(x_test)\n",
    "\n",
    "auc_clf=metrics.accuracy_score(y_test,y_pred_clf)\n",
    "auc_logreg=metrics.accuracy_score(y_test,y_pred_logreg)\n",
    "\n",
    "print('Classifier Accuracy Score:', auc_clf)\n",
    "print('Logistic Accuracy Score:', auc_logreg)"
   ]
  },
  {
   "cell_type": "code",
   "execution_count": null,
   "metadata": {},
   "outputs": [],
   "source": []
  }
 ],
 "metadata": {
  "kernelspec": {
   "display_name": "Python 3",
   "language": "python",
   "name": "python3"
  },
  "language_info": {
   "codemirror_mode": {
    "name": "ipython",
    "version": 3
   },
   "file_extension": ".py",
   "mimetype": "text/x-python",
   "name": "python",
   "nbconvert_exporter": "python",
   "pygments_lexer": "ipython3",
   "version": "3.7.3"
  }
 },
 "nbformat": 4,
 "nbformat_minor": 2
}
