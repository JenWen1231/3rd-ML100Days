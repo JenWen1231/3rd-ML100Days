{
  "nbformat": 4,
  "nbformat_minor": 0,
  "metadata": {
    "colab": {
      "name": "Day_095_HW_JWEN.ipynb",
      "provenance": [],
      "collapsed_sections": []
    },
    "kernelspec": {
      "name": "python3",
      "display_name": "Python 3"
    },
    "accelerator": "TPU"
  },
  "cells": [
    {
      "cell_type": "code",
      "metadata": {
        "id": "8Wl-wF-J0Nel",
        "colab_type": "code",
        "colab": {}
      },
      "source": [
        "import numpy as np\n",
        "import h5py\n",
        "import matplotlib.pyplot as plt\n",
        "%matplotlib inline\n",
        "\n",
        "plt.rcParams['figure.figsize']=(5.0,4.0)\n",
        "plt.rcParams['image.interpolation']='nearest'\n",
        "plt.rcParams['image.cmap']='gray'\n",
        "\n",
        "%load_ext autoreload\n",
        "%autoreload 2\n",
        "\n",
        "np.random.seed(1)"
      ],
      "execution_count": 0,
      "outputs": []
    },
    {
      "cell_type": "code",
      "metadata": {
        "id": "5dJM9ubt02MQ",
        "colab_type": "code",
        "colab": {}
      },
      "source": [
        "def zero_pad(X,pad):\n",
        "  X_pad = np.pad(X, ((0, 0), (pad, pad), (pad, pad), (0, 0)), 'constant', constant_values=(0, 0))\n",
        "  return X_pad"
      ],
      "execution_count": 0,
      "outputs": []
    },
    {
      "cell_type": "code",
      "metadata": {
        "id": "CDfh37xH1JE0",
        "colab_type": "code",
        "outputId": "eda59802-18bb-4ece-8747-4e00b3f8c5e7",
        "colab": {
          "base_uri": "https://localhost:8080/",
          "height": 488
        }
      },
      "source": [
        "np.random.seed(1)\n",
        "\n",
        "x = np.random.randn(8, 2, 3, 7) \n",
        "x_pad = zero_pad(x, 1) \n",
        "print (\"x.shape =\", x.shape)\n",
        "print (\"x_pad.shape =\", x_pad.shape)\n",
        "print (\"x[1,1] =\", x[1,1])\n",
        "print (\"x_pad[1,1] =\", x_pad[1,1])\n",
        "fig, axarr = plt.subplots(1, 2)\n",
        "axarr[0].set_title('x')\n",
        "axarr[0].imshow(x[0,:,:,0])\n",
        "axarr[1].set_title('x_pad')\n",
        "axarr[1].imshow(x_pad[0,:,:,0])"
      ],
      "execution_count": 3,
      "outputs": [
        {
          "output_type": "stream",
          "text": [
            "x.shape = (8, 2, 3, 7)\n",
            "x_pad.shape = (8, 4, 5, 7)\n",
            "x[1,1] = [[-0.29809284  0.48851815 -0.07557171  1.13162939  1.51981682  2.18557541\n",
            "  -1.39649634]\n",
            " [-1.44411381 -0.50446586  0.16003707  0.87616892  0.31563495 -2.02220122\n",
            "  -0.30620401]\n",
            " [ 0.82797464  0.23009474  0.76201118 -0.22232814 -0.20075807  0.18656139\n",
            "   0.41005165]]\n",
            "x_pad[1,1] = [[ 0.          0.          0.          0.          0.          0.\n",
            "   0.        ]\n",
            " [-0.74715829  1.6924546   0.05080775 -0.63699565  0.19091548  2.10025514\n",
            "   0.12015895]\n",
            " [ 0.61720311  0.30017032 -0.35224985 -1.1425182  -0.34934272 -0.20889423\n",
            "   0.58662319]\n",
            " [ 0.83898341  0.93110208  0.28558733  0.88514116 -0.75439794  1.25286816\n",
            "   0.51292982]\n",
            " [ 0.          0.          0.          0.          0.          0.\n",
            "   0.        ]]\n"
          ],
          "name": "stdout"
        },
        {
          "output_type": "execute_result",
          "data": {
            "text/plain": [
              "<matplotlib.image.AxesImage at 0x7f7d50dabcc0>"
            ]
          },
          "metadata": {
            "tags": []
          },
          "execution_count": 3
        },
        {
          "output_type": "display_data",
          "data": {
            "image/png": "[encoded data removed]",
            "text/plain": [
              "<Figure size 360x288 with 2 Axes>"
            ]
          },
          "metadata": {
            "tags": []
          }
        }
      ]
    },
    {
      "cell_type": "code",
      "metadata": {
        "id": "_Mh146z011pA",
        "colab_type": "code",
        "colab": {}
      },
      "source": [
        "def pool_forward(A_prev,hparameters,mode='max'):\n",
        "    (m, n_H_prev, n_W_prev, n_C_prev) = A_prev.shape\n",
        "\n",
        "    f = hparameters[\"f\"]\n",
        "    stride = hparameters[\"stride\"]\n",
        "\n",
        "    n_H = int(1 + (n_H_prev - f) / stride)\n",
        "    n_W = int(1 + (n_W_prev - f) / stride)\n",
        "    n_C = n_C_prev\n",
        "\n",
        "    A = np.zeros((m, n_H, n_W, n_C))\n",
        "\n",
        "    for i in range(m): \n",
        "        for h in range(n_H): \n",
        "            for w in range(n_W): \n",
        "                for c in range (n_C): \n",
        "\n",
        "                    vert_start = h * stride\n",
        "                    vert_end = h * stride+ f\n",
        "                    horiz_start = w * stride\n",
        "                    horiz_end = w * stride + f\n",
        "\n",
        "                    a_prev_slice = A_prev[i, vert_start:vert_end, horiz_start:horiz_end,c]\n",
        "\n",
        "                    if mode == \"max\":\n",
        "                        A[i, h, w, c] = np.max(a_prev_slice)\n",
        "                    elif mode == \"average\":\n",
        "                        A[i, h, w, c] = np.mean(a_prev_slice)\n",
        "\n",
        "  \n",
        "    cache = (A_prev, hparameters)\n",
        "    \n",
        "    assert(A.shape == (m, n_H, n_W, n_C))\n",
        "    \n",
        "    return A, cache"
      ],
      "execution_count": 0,
      "outputs": []
    },
    {
      "cell_type": "code",
      "metadata": {
        "id": "SiczMdSG3P8k",
        "colab_type": "code",
        "outputId": "93387768-7649-4554-8829-75007a7cd998",
        "colab": {
          "base_uri": "https://localhost:8080/",
          "height": 1000
        }
      },
      "source": [
        "np.random.seed(1)\n",
        "A_prev=np.random.randn(8, 2, 3, 7)\n",
        "hparameters={'stride':1,'f':2}\n",
        "A,cache=pool_forward(A_prev,hparameters)\n",
        "print('mode=max')\n",
        "print('A=',A)\n",
        "print()\n",
        "A,cache=pool_forward(A_prev,hparameters,mode='average')\n",
        "print('mode=average')\n",
        "print('A=',A)"
      ],
      "execution_count": 5,
      "outputs": [
        {
          "output_type": "stream",
          "text": [
            "mode=max\n",
            "A= [[[[ 1.62434536  0.90159072  0.50249434  1.46210794  0.86540763\n",
            "    -0.12289023  1.74481176]\n",
            "   [ 1.13376944  0.53035547  0.2344157   1.65980218  0.74204416\n",
            "     0.58281521 -0.38405435]]]\n",
            "\n",
            "\n",
            " [[[ 0.61720311  1.6924546   0.16003707  1.13162939  1.51981682\n",
            "     2.18557541  0.58662319]\n",
            "   [ 0.83898341  0.93110208  0.76201118  0.88514116  0.31563495\n",
            "     1.25286816  0.58662319]]]\n",
            "\n",
            "\n",
            " [[[ 0.84616065  0.74055645  0.35054598  0.42349435  0.12182127\n",
            "     1.12948391  1.19891788]\n",
            "   [ 0.84616065  0.69803203  0.35054598  1.27375593  1.96710175\n",
            "     0.59357852  1.23616403]]]\n",
            "\n",
            "\n",
            " [[[ 1.62765075  0.79280687  0.68255141  0.86334532  0.01740941\n",
            "     1.0388246   2.18697965]\n",
            "   [ 0.5505375   0.79280687  0.86888616  0.75041164  0.52946532\n",
            "     0.98633519  0.2135339 ]]]\n",
            "\n",
            "\n",
            " [[[ 2.19069973  1.33145711  0.81095167  1.90465871  2.52832571\n",
            "     0.82400562  0.31354772]\n",
            "   [ 1.95487808  1.33145711  0.81095167  1.04444209  0.5627611\n",
            "     0.82400562  1.9560789 ]]]\n",
            "\n",
            "\n",
            " [[[ 0.20183018  1.40754     1.79215821  1.6169496   0.50274088\n",
            "     1.55880554  0.62336218]\n",
            "   [ 0.67471153  2.44936865  0.12910158  1.81053491  0.50274088\n",
            "     1.55880554  0.24266944]]]\n",
            "\n",
            "\n",
            " [[[ 0.88490881  1.93752881  0.36633201  0.92145007  2.05117344\n",
            "     0.585662    1.39984394]\n",
            "   [ 0.28474811  0.26246745  0.2764993   0.92145007  0.83600472\n",
            "     1.54335911  1.20205486]]]\n",
            "\n",
            "\n",
            " [[[ 0.82458463  0.65458015  0.6210827   0.9561217   1.62284909\n",
            "     1.19268607  2.06578332]\n",
            "   [ 1.15528789  0.43816635  1.12341216  0.9561217   1.62284909\n",
            "     1.45142926  3.03085711]]]]\n",
            "\n",
            "mode=average\n",
            "A= [[[[ 0.43499352  0.28480722 -0.24167714  0.22331043 -0.64140841\n",
            "    -0.89801294 -0.06156454]\n",
            "   [ 0.02300247 -0.34195176 -0.21976091  0.46182454 -0.49076388\n",
            "    -0.1941608  -0.76088716]]]\n",
            "\n",
            "\n",
            " [[[-0.46804046  0.4941693  -0.05424418  0.05707112  0.41925613\n",
            "     0.51368377 -0.24897955]\n",
            "   [ 0.21001184  0.23922532  0.21384643  0.09911594 -0.24721595\n",
            "    -0.19791648  0.30085016]]]\n",
            "\n",
            "\n",
            " [[[ 0.3497498  -0.09380895 -0.47813683 -0.19436094  0.04827009\n",
            "    -0.55081486  0.66977296]\n",
            "   [ 0.20505419 -0.14034645 -0.37761865  0.40236864  0.60230949\n",
            "    -0.80600734  0.32656669]]]\n",
            "\n",
            "\n",
            " [[[ 0.80948324  0.31578947 -0.31917302  0.23868767 -0.93567251\n",
            "     0.02868657  0.12159859]\n",
            "   [-0.04792367  0.20992623 -0.04693262  0.41178628 -0.19304245\n",
            "     0.20096968 -0.04479303]]]\n",
            "\n",
            "\n",
            " [[[ 0.62339802  0.25392924  0.06155496  1.13266438  0.72967565\n",
            "    -0.00953453 -0.45813176]\n",
            "   [ 0.70851698  0.42825338 -0.33687294 -0.13589285 -0.26211857\n",
            "    -0.33173286  0.49699657]]]\n",
            "\n",
            "\n",
            " [[[-0.55845545  0.38772858  0.6343573   0.14974403 -0.49228118\n",
            "    -0.03607352 -0.1985765 ]\n",
            "   [-0.66354634  1.3251194  -0.33951452  0.72941542 -0.37631901\n",
            "    -0.09654914 -0.18502099]]]\n",
            "\n",
            "\n",
            " [[[-0.82427157  0.18224026 -0.48292761 -0.19224731  0.7424346\n",
            "     0.16916377  0.76198813]\n",
            "   [-0.23174356 -0.29632221 -0.26820721  0.19915639  0.11637303\n",
            "     0.59521715  0.32417749]]]\n",
            "\n",
            "\n",
            " [[[-0.11210115 -0.32476276  0.02665466  0.18404938 -0.22654634\n",
            "     0.41399296  0.0839695 ]\n",
            "   [ 0.14715254 -0.45447688  0.4965614  -0.00368219  0.5497485\n",
            "     0.49903094  0.37004618]]]]\n"
          ],
          "name": "stdout"
        }
      ]
    }
  ]
}