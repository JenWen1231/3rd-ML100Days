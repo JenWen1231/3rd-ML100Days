{
 "cells": [
  {
   "cell_type": "code",
   "execution_count": 1,
   "metadata": {},
   "outputs": [
    {
     "name": "stdout",
     "output_type": "stream",
     "text": [
      "[-1.05070118e-01  2.91905944e-02 -1.77867960e-01  4.31547165e-02\n",
      "  1.01210209e-04  1.49892356e-01 -3.70827482e-01 -2.59847929e-01\n",
      "  4.22928548e-02  7.46189422e-02 -1.58479025e-01 -2.64616732e-01\n",
      " -7.43793043e-04]\n",
      "Mean Squared Error: 0.07\n"
     ]
    }
   ],
   "source": [
    "import numpy as np\n",
    "from sklearn import datasets,linear_model\n",
    "from sklearn.model_selection import train_test_split\n",
    "from sklearn.metrics import mean_squared_error,r2_score\n",
    "\n",
    "wine=datasets.load_wine()\n",
    "x_train,x_test,y_train,y_test=train_test_split(wine.data,wine.target,test_size=0.1,random_state=4)\n",
    "\n",
    "regr=linear_model.LinearRegression()\n",
    "\n",
    "regr.fit(x_train,y_train)\n",
    "y_pred=regr.predict(x_test)\n",
    "\n",
    "print(regr.coef_)\n",
    "print('Mean Squared Error: %.2f' %mean_squared_error(y_test,y_pred))"
   ]
  },
  {
   "cell_type": "code",
   "execution_count": 2,
   "metadata": {},
   "outputs": [
    {
     "name": "stdout",
     "output_type": "stream",
     "text": [
      "[[-5.88852656e-01  6.67300827e-01  1.00960693e+00 -5.80989219e-01\n",
      "  -3.55178256e-02  3.62071144e-01  1.18894658e+00  3.78340624e-03\n",
      "  -4.54784892e-01 -1.53560698e-01 -1.62107824e-01  9.11550191e-01\n",
      "   1.77906683e-02]\n",
      " [ 9.31771389e-01 -1.08459849e+00 -7.53390627e-01  2.41931110e-01\n",
      "   1.24181909e-02  3.53858216e-02  5.76719638e-01  5.39359650e-01\n",
      "   6.06710292e-01 -1.86151560e+00  9.52831552e-01  7.69014213e-02\n",
      "  -1.44579779e-02]\n",
      " [-3.44877619e-01  6.57378630e-01  3.90432260e-02  1.20175740e-01\n",
      "   1.94696375e-02 -6.60620544e-01 -1.84324382e+00 -9.24618142e-02\n",
      "  -6.79666411e-01  1.08773341e+00 -4.94768310e-01 -1.20152083e+00\n",
      "   2.92068606e-04]]\n",
      "Mean Squared Error: 0.06\n"
     ]
    },
    {
     "name": "stderr",
     "output_type": "stream",
     "text": [
      "C:\\Users\\jwen\\AppData\\Local\\Continuum\\anaconda3\\lib\\site-packages\\sklearn\\linear_model\\logistic.py:433: FutureWarning: Default solver will be changed to 'lbfgs' in 0.22. Specify a solver to silence this warning.\n",
      "  FutureWarning)\n",
      "C:\\Users\\jwen\\AppData\\Local\\Continuum\\anaconda3\\lib\\site-packages\\sklearn\\linear_model\\logistic.py:460: FutureWarning: Default multi_class will be changed to 'auto' in 0.22. Specify the multi_class option to silence this warning.\n",
      "  \"this warning.\", FutureWarning)\n"
     ]
    }
   ],
   "source": [
    "logreg=linear_model.LogisticRegression()\n",
    "\n",
    "logreg.fit(x_train,y_train)\n",
    "y_pred=logreg.predict(x_test)\n",
    "\n",
    "print(logreg.coef_)\n",
    "print('Mean Squared Error: %.2f' %mean_squared_error(y_test,y_pred))"
   ]
  },
  {
   "cell_type": "code",
   "execution_count": 14,
   "metadata": {},
   "outputs": [
    {
     "name": "stdout",
     "output_type": "stream",
     "text": [
      "LASSO COEF: [-0.07129937  0.02695771 -0.          0.03160152  0.00038441  0.\n",
      " -0.30042484 -0.          0.00143958  0.08430527 -0.         -0.20532845\n",
      " -0.00089826]\n",
      "LASSO MSE: 0.07\n"
     ]
    }
   ],
   "source": [
    "#LASSO\n",
    "wine=datasets.load_wine()\n",
    "x_train,x_test,y_train,y_test=train_test_split(wine.data,wine.target,test_size=0.1,random_state=4)\n",
    "lasso=linear_model.Lasso(alpha=0.01)\n",
    "lasso.fit(x_train,y_train)\n",
    "y_pred=lasso.predict(x_test)\n",
    "\n",
    "print('LASSO COEF:',lasso.coef_)\n",
    "print('LASSO MSE: %.2f' %mean_squared_error(y_test,y_pred))"
   ]
  },
  {
   "cell_type": "code",
   "execution_count": 20,
   "metadata": {},
   "outputs": [
    {
     "name": "stdout",
     "output_type": "stream",
     "text": [
      "Ridge COEF: [-1.05036514e-01  2.92009058e-02 -1.77937433e-01  4.31436363e-02\n",
      "  1.05560800e-04  1.49557478e-01 -3.70569519e-01 -2.57801087e-01\n",
      "  4.22406022e-02  7.46429327e-02 -1.58321214e-01 -2.64450813e-01\n",
      " -7.43948497e-04]\n",
      "Ridge MSE: 0.07\n"
     ]
    }
   ],
   "source": [
    "#Ridge\n",
    "wine=datasets.load_wine()\n",
    "x_train,x_test,y_train,y_test=train_test_split(wine.data,wine.target,test_size=0.1,random_state=4)\n",
    "ridge=linear_model.Ridge(alpha=0.01)\n",
    "ridge.fit(x_train,y_train)\n",
    "y_pred=ridge.predict(x_test)\n",
    "\n",
    "print('Ridge COEF:', ridge.coef_)\n",
    "print('Ridge MSE: %.2f' %mean_squared_error(y_test,y_pred))"
   ]
  },
  {
   "cell_type": "code",
   "execution_count": null,
   "metadata": {},
   "outputs": [],
   "source": []
  }
 ],
 "metadata": {
  "kernelspec": {
   "display_name": "Python 3",
   "language": "python",
   "name": "python3"
  },
  "language_info": {
   "codemirror_mode": {
    "name": "ipython",
    "version": 3
   },
   "file_extension": ".py",
   "mimetype": "text/x-python",
   "name": "python",
   "nbconvert_exporter": "python",
   "pygments_lexer": "ipython3",
   "version": "3.7.3"
  }
 },
 "nbformat": 4,
 "nbformat_minor": 2
}
