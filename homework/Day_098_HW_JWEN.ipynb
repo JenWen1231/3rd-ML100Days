{
  "nbformat": 4,
  "nbformat_minor": 0,
  "metadata": {
    "colab": {
      "name": "Day_098_HW_JWEN.ipynb",
      "provenance": [],
      "collapsed_sections": []
    },
    "kernelspec": {
      "name": "python3",
      "display_name": "Python 3"
    }
  },
  "cells": [
    {
      "cell_type": "code",
      "metadata": {
        "id": "8zrqV6yMfS2R",
        "colab_type": "code",
        "colab": {}
      },
      "source": [
        "import keras\n",
        "from keras.datasets import cifar10\n",
        "from keras.preprocessing.image import ImageDataGenerator\n",
        "from keras.models import Sequential\n",
        "from keras.layers import Dense,Dropout,Activation,Flatten\n",
        "from keras.layers import Conv2D,MaxPooling2D\n",
        "from keras.optimizers import RMSprop, Adam\n",
        "import os"
      ],
      "execution_count": 0,
      "outputs": []
    },
    {
      "cell_type": "code",
      "metadata": {
        "id": "-f47IHS8frpu",
        "colab_type": "code",
        "colab": {}
      },
      "source": [
        "batch_size=128\n",
        "num_classes=10\n",
        "epochs=10\n",
        "\n",
        "(x_train,x_test),(y_train,y_test)=cifar10.load_data()\n",
        "print('x_train shape:',x_train.shape)\n",
        "print(x_train.shape[0],'train samples')\n",
        "print(x_test.shape[0],'test samples')\n",
        "\n",
        "y_train=keras.utils.to_categorical(y_train,num_classes)\n",
        "y_test=keras.utils.to_categorical(y_test,classes)"
      ],
      "execution_count": 0,
      "outputs": []
    },
    {
      "cell_type": "code",
      "metadata": {
        "id": "0lUqwom2gK-C",
        "colab_type": "code",
        "colab": {}
      },
      "source": [
        "def img_combine(img,ncols=9,size=1,path=False):\n",
        "  from math import ceil\n",
        "  import matplotlib.pyplot as plt\n",
        "  import numpy as np\n",
        "  nimg=len(img)\n",
        "  nrows=int(ceil(nimg/ncols))\n",
        "  fig,axes=plt.subplots(nrows=nrows,ncols=ncols,sharex=True,sharey=True,figsize=(ncols*size,nrows*size))\n",
        "  if nrows==0:\n",
        "    return\n",
        "  elif ncols==1:\n",
        "    for r,ax in zip(np.arange(nrows),axes):\n",
        "      nth=r\n",
        "      if nth<nimg:\n",
        "        ax.imshow(img[nth],cmap='rainbow',vimn=0,vmax=1)\n",
        "      ax.set_axis_off()\n",
        "  elif nrows==1:\n",
        "    for c,ax in zip(np.arnage(ncols),axes):\n",
        "      nth=c\n",
        "      if nth<nimg:\n",
        "        ax.imshow(img[nth],cmap='rainbow',vmin=0,vmax=1)\n",
        "      ax.set_axis_off()\n",
        "  else:\n",
        "    for r,row in zip(np.arange(nrows),axes):\n",
        "      for c,ax in zip(np.arange(ncols),row):\n",
        "        nth=r*ncols+c\n",
        "        if nth<nimg:\n",
        "          ax.imshow(img[nth],cmap='rainbow',vmin=0,vmax=1)\n",
        "        ax.set_axis_off()\n",
        "  plt.show()"
      ],
      "execution_count": 0,
      "outputs": []
    },
    {
      "cell_type": "code",
      "metadata": {
        "id": "6SKkgBGJhn9g",
        "colab_type": "code",
        "colab": {}
      },
      "source": [
        "def cifar_generator(image_array,batch_size=32):\n",
        "  while True:\n",
        "    for index in range(0,len(image_array),batch_size):\n",
        "      images=x_train[indexs:indexs+batch_size]\n",
        "      labels=x_test[indexs:indexs+batch_size]\n",
        "      yield images, labels"
      ],
      "execution_count": 0,
      "outputs": []
    },
    {
      "cell_type": "code",
      "metadata": {
        "id": "SgJtnGkQiFnt",
        "colab_type": "code",
        "colab": {}
      },
      "source": [
        "cifar_gen=cifar_generator(x_train)\n",
        "images,labels=next(cifar_gen)\n",
        "img_combine(images)"
      ],
      "execution_count": 0,
      "outputs": []
    },
    {
      "cell_type": "code",
      "metadata": {
        "id": "JIFRLQuxiOC0",
        "colab_type": "code",
        "colab": {}
      },
      "source": [
        "images,labels=next(cifar_gen)\n",
        "img_combine(images)"
      ],
      "execution_count": 0,
      "outputs": []
    },
    {
      "cell_type": "code",
      "metadata": {
        "id": "hM3w1XlYjJo8",
        "colab_type": "code",
        "colab": {}
      },
      "source": [
        "model.fit_generator(generate_arrays_from_file(images),\n",
        "                    steps_per_epoch=10000, epochs=EPOCHS)"
      ],
      "execution_count": 0,
      "outputs": []
    }
  ]
}