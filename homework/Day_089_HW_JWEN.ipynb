{
  "nbformat": 4,
  "nbformat_minor": 0,
  "metadata": {
    "colab": {
      "name": "Day_089_HW_JWEN.ipynb",
      "provenance": [],
      "collapsed_sections": []
    },
    "kernelspec": {
      "name": "python3",
      "display_name": "Python 3"
    }
  },
  "cells": [
    {
      "cell_type": "code",
      "metadata": {
        "id": "x4TazBVt4hhM",
        "colab_type": "code",
        "colab": {}
      },
      "source": [
        "import os\n",
        "import keras\n",
        "\n",
        "os.environ['CUDA_VISIBLE_DEVICES']='0'"
      ],
      "execution_count": 0,
      "outputs": []
    },
    {
      "cell_type": "code",
      "metadata": {
        "id": "N5Qdadae4pko",
        "colab_type": "code",
        "colab": {}
      },
      "source": [
        "train,test=keras.datasets.cifar10.load_data()"
      ],
      "execution_count": 0,
      "outputs": []
    },
    {
      "cell_type": "code",
      "metadata": {
        "id": "xdHo8srL4tDn",
        "colab_type": "code",
        "colab": {}
      },
      "source": [
        "def preproc_x(x, flatten=True):\n",
        "    x = x / 255.\n",
        "    if flatten:\n",
        "        x = x.reshape((len(x), -1))\n",
        "    return x\n",
        "\n",
        "def preproc_y(y, num_classes=10):\n",
        "    if y.shape[-1] == 1:\n",
        "        y = keras.utils.to_categorical(y, num_classes)\n",
        "    return y"
      ],
      "execution_count": 0,
      "outputs": []
    },
    {
      "cell_type": "code",
      "metadata": {
        "id": "-4KR-yyU4vLT",
        "colab_type": "code",
        "colab": {}
      },
      "source": [
        "x_train, y_train = train\n",
        "x_test, y_test = test\n",
        "\n",
        "x_train = preproc_x(x_train)\n",
        "x_test = preproc_x(x_test)\n",
        "\n",
        "y_train = preproc_y(y_train)\n",
        "y_test = preproc_y(y_test)"
      ],
      "execution_count": 0,
      "outputs": []
    },
    {
      "cell_type": "code",
      "metadata": {
        "id": "p4s_VcKq4znD",
        "colab_type": "code",
        "colab": {}
      },
      "source": [
        "from keras.layers import BatchNormalization\n",
        "\n",
        "def build_mlp(input_shape, output_units=10, num_neurons=[512, 256, 128]):\n",
        "    input_layer = keras.layers.Input(input_shape)\n",
        "    \n",
        "    for i, n_units in enumerate(num_neurons):\n",
        "        if i == 0:\n",
        "            x = keras.layers.Dense(units=n_units, \n",
        "                                   activation=\"relu\", \n",
        "                                   name=\"hidden_layer\"+str(i+1))(input_layer)\n",
        "            x = BatchNormalization()(x)\n",
        "        else:\n",
        "            x = keras.layers.Dense(units=n_units, \n",
        "                                   activation=\"relu\", \n",
        "                                   name=\"hidden_layer\"+str(i+1))(x)\n",
        "            x = BatchNormalization()(x)\n",
        "    \n",
        "    out = keras.layers.Dense(units=output_units, activation=\"softmax\", name=\"output\")(x)\n",
        "    \n",
        "    model = keras.models.Model(inputs=[input_layer], outputs=[out])\n",
        "    return model"
      ],
      "execution_count": 0,
      "outputs": []
    },
    {
      "cell_type": "code",
      "metadata": {
        "id": "IUx-w5KS4556",
        "colab_type": "code",
        "colab": {}
      },
      "source": [
        "LEARNING_RATE = 1e-3\n",
        "EPOCHS = 50\n",
        "BATCH_SIZE = 1024\n",
        "MOMENTUM = 0.95"
      ],
      "execution_count": 0,
      "outputs": []
    },
    {
      "cell_type": "code",
      "metadata": {
        "id": "VnNfC0rK48JP",
        "colab_type": "code",
        "colab": {}
      },
      "source": [
        "import tensorflow as ft\n",
        "import keras.backend as K\n",
        "\n",
        "def combined_loss(gamma=2.,alpha=4.):\n",
        "  gamma=float(gamma)\n",
        "  alpha=float(alpha)\n",
        "  \n",
        "  def focal_loss_fixed(y_true,y_pred):\n",
        "    epsilon=1e-8\n",
        "    y_true=tf.convert_to_tensor(y_true,tf.float32)\n",
        "    y_pred=tf.convert_to_tensor(y_pred,tf.float32)\n",
        "\n",
        "    model_out=tf.add(y_pred,epsilon)\n",
        "    ce=tf.multiply(y_true,-tf.log(model_out))\n",
        "    weight=tf.multiply(y_true,tf.pow(tf.subtract(1.,model_out),gamma))\n",
        "    fl=tf.multiply(alpha,tf.multiply(weight,ce))\n",
        "    reduced_fl=tf.reduce_max(fl,axis=1)\n",
        "    return tf.reduce_mean(reduce_fl)\n",
        "  return focal_loss_fixed\n",
        "\n",
        "  ce_weights_list=[0.,0.3,0.5,0.7,1]"
      ],
      "execution_count": 0,
      "outputs": []
    },
    {
      "cell_type": "code",
      "metadata": {
        "id": "Fe8kXTxF9DAb",
        "colab_type": "code",
        "colab": {}
      },
      "source": [
        "import itertools\n",
        "results={}\n",
        "\n",
        "for i,ce_w in enumerate(ce_weights_list):\n",
        "  print('Numbers of exp: %i, ce_weight: %.2f' %(i,ce_w))\n",
        "  model=build_mlp(input_shape=x_train.shape[1:])\n",
        "  model.summary()\n",
        "  optmizer=keras.optimizers.SGD(lr=LEARNING_RATE,nesterov=True,momentum=MOMENTUM)\n",
        "  model.compile(loss=combined_loss(),metrics=['accuracy'],optimizer=optimizer)\n",
        "  model.fit(x_train,y_train,epochs=EPOCHS,batch_size=BATCH_SIZE,validation_data=(x_test,y_test),shuffle=True)\n",
        "\n",
        "  exp_name_tag=('exp-%s'%(i))\n",
        "  results[exp_name_tag]={'train-loss':model.history.history['loss'],\n",
        "                         'valid-loss':model.history.history['val_loss'],\n",
        "                         'train-acc':model.history.history['acc'],\n",
        "                         'valide-acc':model.history.history['val_acc']}\n"
      ],
      "execution_count": 0,
      "outputs": []
    },
    {
      "cell_type": "code",
      "metadata": {
        "id": "iVIOzvD2_QrB",
        "colab_type": "code",
        "colab": {}
      },
      "source": [
        "import matplotlib.pyplot as plt\n",
        "import matplotlib.cm as mplcm\n",
        "import matplotlib.colors as colors\n",
        "%matplotlib inline\n",
        "NUM_COLORS = len(results.keys())\n",
        "\n",
        "cm = plt.get_cmap('gist_rainbow')\n",
        "cNorm  = colors.Normalize(vmin=0, vmax=NUM_COLORS-1)\n",
        "scalarMap = mplcm.ScalarMappable(norm=cNorm, cmap=cm)\n",
        "color_bar = [scalarMap.to_rgba(i) for i in range(NUM_COLORS)]\n",
        "\n",
        "plt.figure(figsize=(8,6))\n",
        "for i, cond in enumerate(results.keys()):\n",
        "    plt.plot(range(len(results[cond]['train-loss'])),results[cond]['train-loss'], '-', label=cond, color=color_bar[i])\n",
        "    plt.plot(range(len(results[cond]['valid-loss'])),results[cond]['valid-loss'], '--', label=cond, color=color_bar[i])\n",
        "plt.title(\"Loss\")\n",
        "plt.legend(loc='center left', bbox_to_anchor=(1, 0.5))\n",
        "plt.show()\n",
        "\n",
        "plt.figure(figsize=(8,6))\n",
        "for i, cond in enumerate(results.keys()):\n",
        "    plt.plot(range(len(results[cond]['train-acc'])),results[cond]['train-acc'], '-', label=cond, color=color_bar[i])\n",
        "    plt.plot(range(len(results[cond]['valid-acc'])),results[cond]['valid-acc'], '--', label=cond, color=color_bar[i])\n",
        "plt.title(\"Accuracy\")\n",
        "plt.legend(loc='center left', bbox_to_anchor=(1, 0.5))\n",
        "plt.show()"
      ],
      "execution_count": 0,
      "outputs": []
    }
  ]
}