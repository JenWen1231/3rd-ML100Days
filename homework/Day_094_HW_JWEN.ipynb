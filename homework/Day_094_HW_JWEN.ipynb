{
  "nbformat": 4,
  "nbformat_minor": 0,
  "metadata": {
    "colab": {
      "name": "Day_094_HW_JWEN.ipynb",
      "provenance": [],
      "collapsed_sections": []
    },
    "kernelspec": {
      "name": "python3",
      "display_name": "Python 3"
    }
  },
  "cells": [
    {
      "cell_type": "code",
      "metadata": {
        "id": "wDKH-xIDv59_",
        "colab_type": "code",
        "colab": {}
      },
      "source": [
        "import numpy as np"
      ],
      "execution_count": 0,
      "outputs": []
    },
    {
      "cell_type": "code",
      "metadata": {
        "id": "9o_5KWXkwDG8",
        "colab_type": "code",
        "colab": {}
      },
      "source": [
        "def conv_single_step(a_slice_prev,W,b):\n",
        "  s=a_slice_prev*W\n",
        "  Z=np.sum(s)\n",
        "  Z=float(Z+b)\n",
        "  return Z"
      ],
      "execution_count": 0,
      "outputs": []
    },
    {
      "cell_type": "code",
      "metadata": {
        "id": "s18A5JKHwSy1",
        "colab_type": "code",
        "outputId": "d75d4cab-1182-4c16-e227-7e119e13a0f8",
        "colab": {
          "base_uri": "https://localhost:8080/",
          "height": 34
        }
      },
      "source": [
        "np.random.seed(1)\n",
        "a_slice_prev=np.random.randn(8,8,3)\n",
        "W=np.random.randn(8,8,3)\n",
        "b=np.random.randn(1,1,1)\n",
        "Z=conv_single_step(a_slice_prev,W,b)\n",
        "print('Z=',Z)"
      ],
      "execution_count": 3,
      "outputs": [
        {
          "output_type": "stream",
          "text": [
            "Z= -5.897160569766038\n"
          ],
          "name": "stdout"
        }
      ]
    }
  ]
}