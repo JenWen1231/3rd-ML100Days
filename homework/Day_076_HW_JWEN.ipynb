{
  "nbformat": 4,
  "nbformat_minor": 0,
  "metadata": {
    "colab": {
      "name": "Day_076_HW_JWEN.ipynb",
      "provenance": [],
      "collapsed_sections": []
    },
    "kernelspec": {
      "name": "python3",
      "display_name": "Python 3"
    },
    "accelerator": "GPU"
  },
  "cells": [
    {
      "cell_type": "code",
      "metadata": {
        "id": "eTO7lCqxoONK",
        "colab_type": "code",
        "colab": {}
      },
      "source": [
        "from __future__ import print_function\n",
        "import keras\n",
        "from keras.datasets import cifar10\n",
        "from keras.preprocessing.image import ImageDataGenerator\n",
        "from keras.models import Sequential\n",
        "from keras.layers import Dense, Dropout, Activation, Flatten\n",
        "from keras.layers import Conv2D, MaxPooling2D\n",
        "import os\n",
        "from keras import optimizers"
      ],
      "execution_count": 0,
      "outputs": []
    },
    {
      "cell_type": "code",
      "metadata": {
        "id": "lC9UXwknotTJ",
        "colab_type": "code",
        "colab": {}
      },
      "source": [
        "import tensorflow as tf\n",
        "gpu_options=tf.GPUOptions(per_process_gpu_memory_fraction=0.333)\n",
        "sess=tf.Session(config=tf.ConfigProto(gpu_options=gpu_options))"
      ],
      "execution_count": 0,
      "outputs": []
    },
    {
      "cell_type": "code",
      "metadata": {
        "id": "rlTs0QpMpAfv",
        "colab_type": "code",
        "colab": {}
      },
      "source": [
        "batch_size=4 #32,16,8,4,128\n",
        "epochs=20\n",
        "num_classes=10\n",
        "data_augmentation=True\n",
        "num_prediction=20\n",
        "save_dir=os.path.join(os.getcwd(),'saved_models')\n",
        "model_name='keras_cifar10_trained_model.h5'"
      ],
      "execution_count": 0,
      "outputs": []
    },
    {
      "cell_type": "code",
      "metadata": {
        "id": "qTEMbWUeqL4R",
        "colab_type": "code",
        "colab": {
          "base_uri": "https://localhost:8080/",
          "height": 68
        },
        "outputId": "a49bff10-6721-427e-d114-f856614eafb1"
      },
      "source": [
        "(x_train,y_train),(x_test,y_test)=cifar10.load_data()\n",
        "print('x_train shape:',x_train.shape)\n",
        "print(x_train.shape[0],'train samples')\n",
        "print(x_test.shape[0],'test samples')\n",
        "\n",
        "y_train=keras.utils.to_categorical(y_train,num_classes)\n",
        "y_test=keras.utils.to_categorical(y_test,num_classes)"
      ],
      "execution_count": 45,
      "outputs": [
        {
          "output_type": "stream",
          "text": [
            "x_train shape: (50000, 32, 32, 3)\n",
            "50000 train samples\n",
            "10000 test samples\n"
          ],
          "name": "stdout"
        }
      ]
    },
    {
      "cell_type": "code",
      "metadata": {
        "id": "UOPpIWK4quTC",
        "colab_type": "code",
        "colab": {}
      },
      "source": [
        "model=Sequential()\n",
        "\n",
        "model.add(Conv2D(32,(3,3),padding='same',input_shape=x_train.shape[1:]))\n",
        "model.add(Activation('relu'))\n",
        "\n",
        "model.add(Conv2D(32,(3,3)))\n",
        "model.add(Activation('relu'))\n",
        "model.add(MaxPooling2D(pool_size=(2,2)))\n",
        "model.add(Dropout(0.25))\n",
        "\n",
        "model.add(Conv2D(64,(3,3),padding='same'))\n",
        "model.add(Activation('relu'))\n",
        "\n",
        "model.add(Conv2D(64,(3,3)))\n",
        "model.add(Activation('relu'))\n",
        "model.add(MaxPooling2D(pool_size=(2,2)))\n",
        "model.add(Dropout(0.25))\n",
        "\n",
        "model.add(Flatten())\n",
        "model.add(Dense(512))\n",
        "model.add(Activation('relu'))\n",
        "model.add(Dropout(0.5))\n",
        "\n",
        "model.add(Dense(10))\n",
        "model.add(Activation('softmax'))"
      ],
      "execution_count": 0,
      "outputs": []
    },
    {
      "cell_type": "code",
      "metadata": {
        "id": "SsEdHw39r2Bx",
        "colab_type": "code",
        "colab": {
          "base_uri": "https://localhost:8080/",
          "height": 34
        },
        "outputId": "575c7050-3767-450a-cca2-5bbc06c5b90c"
      },
      "source": [
        "print('Total Parameter: %d' %model.count_params())"
      ],
      "execution_count": 47,
      "outputs": [
        {
          "output_type": "stream",
          "text": [
            "Total Parameter: 1250858\n"
          ],
          "name": "stdout"
        }
      ]
    },
    {
      "cell_type": "code",
      "metadata": {
        "id": "yI_ipl6KsCRN",
        "colab_type": "code",
        "colab": {
          "base_uri": "https://localhost:8080/",
          "height": 765
        },
        "outputId": "5d7d8d88-78f5-4faf-82db-8173fb84dbc8"
      },
      "source": [
        "model.summary()"
      ],
      "execution_count": 48,
      "outputs": [
        {
          "output_type": "stream",
          "text": [
            "Model: \"sequential_4\"\n",
            "_________________________________________________________________\n",
            "Layer (type)                 Output Shape              Param #   \n",
            "=================================================================\n",
            "conv2d_13 (Conv2D)           (None, 32, 32, 32)        896       \n",
            "_________________________________________________________________\n",
            "activation_19 (Activation)   (None, 32, 32, 32)        0         \n",
            "_________________________________________________________________\n",
            "conv2d_14 (Conv2D)           (None, 30, 30, 32)        9248      \n",
            "_________________________________________________________________\n",
            "activation_20 (Activation)   (None, 30, 30, 32)        0         \n",
            "_________________________________________________________________\n",
            "max_pooling2d_7 (MaxPooling2 (None, 15, 15, 32)        0         \n",
            "_________________________________________________________________\n",
            "dropout_10 (Dropout)         (None, 15, 15, 32)        0         \n",
            "_________________________________________________________________\n",
            "conv2d_15 (Conv2D)           (None, 15, 15, 64)        18496     \n",
            "_________________________________________________________________\n",
            "activation_21 (Activation)   (None, 15, 15, 64)        0         \n",
            "_________________________________________________________________\n",
            "conv2d_16 (Conv2D)           (None, 13, 13, 64)        36928     \n",
            "_________________________________________________________________\n",
            "activation_22 (Activation)   (None, 13, 13, 64)        0         \n",
            "_________________________________________________________________\n",
            "max_pooling2d_8 (MaxPooling2 (None, 6, 6, 64)          0         \n",
            "_________________________________________________________________\n",
            "dropout_11 (Dropout)         (None, 6, 6, 64)          0         \n",
            "_________________________________________________________________\n",
            "flatten_4 (Flatten)          (None, 2304)              0         \n",
            "_________________________________________________________________\n",
            "dense_7 (Dense)              (None, 512)               1180160   \n",
            "_________________________________________________________________\n",
            "activation_23 (Activation)   (None, 512)               0         \n",
            "_________________________________________________________________\n",
            "dropout_12 (Dropout)         (None, 512)               0         \n",
            "_________________________________________________________________\n",
            "dense_8 (Dense)              (None, 10)                5130      \n",
            "_________________________________________________________________\n",
            "activation_24 (Activation)   (None, 10)                0         \n",
            "=================================================================\n",
            "Total params: 1,250,858\n",
            "Trainable params: 1,250,858\n",
            "Non-trainable params: 0\n",
            "_________________________________________________________________\n"
          ],
          "name": "stdout"
        }
      ]
    },
    {
      "cell_type": "code",
      "metadata": {
        "id": "8tq_-V83sNPE",
        "colab_type": "code",
        "colab": {}
      },
      "source": [
        "from keras import optimizers\n",
        "opt_SGD=optimizers.SGD(lr=0.01, decay=1e-6, momentum=0.9, nesterov=True)\n",
        "opt_Adagrad=optimizers.Adagrad(lr=0.01,epsilon=None,decay=0.0)\n",
        "opt_RMSprop=optimizers.RMSprop(lr=0.001,epsilon=None,decay=0.0)\n",
        "opt_Adam=optimizers.Adam(lr=0.001,epsilon=None,decay=0.0)\n",
        "\n",
        "opt=opt_SGD\n",
        "model.compile(optimizer=opt,loss='categorical_crossentropy',metrics=['accuracy'])"
      ],
      "execution_count": 0,
      "outputs": []
    },
    {
      "cell_type": "code",
      "metadata": {
        "id": "fJTXTs1bwepX",
        "colab_type": "code",
        "colab": {}
      },
      "source": [
        "x_train=x_train.astype('float32')\n",
        "x_test=x_test.astype('float32')\n",
        "x_train/=255\n",
        "x_test/=255"
      ],
      "execution_count": 0,
      "outputs": []
    },
    {
      "cell_type": "code",
      "metadata": {
        "id": "GUcsr4gJx0_p",
        "colab_type": "code",
        "colab": {
          "base_uri": "https://localhost:8080/",
          "height": 768
        },
        "outputId": "1d9a3258-03e2-4712-c0c4-739574b71fe3"
      },
      "source": [
        "if not data_augmentation:\n",
        "  print('Not using data augmentation.')\n",
        "  history=model.fit(x_train,y_train,batch_size=batch_size,epochs=epochs,validation_data=(x_test,y_test),shuffle=True)\n",
        "else:\n",
        "  print('Using real-time data augmentation.')\n",
        "  print('')\n",
        "  datagen=ImageDataGenerator(\n",
        "      featurewise_center=False,\n",
        "      samplewise_center=False,\n",
        "      featurewise_std_normalization=False,\n",
        "      samplewise_std_normalization=False,\n",
        "      zca_whitening=False,\n",
        "      zca_epsilon=1e-06,\n",
        "      rotation_range=0,\n",
        "      width_shift_range=0.1,\n",
        "      height_shift_range=0.1,\n",
        "      shear_range=0,\n",
        "      zoom_range=0.,\n",
        "      channel_shift_range=0.,\n",
        "      fill_mode='nearest',\n",
        "      cval=0.,\n",
        "      horizontal_flip=True,\n",
        "      vertical_flip=False,\n",
        "      rescale=None,\n",
        "      preprocessing_function=None,\n",
        "      data_format=None,\n",
        "      validation_split=0.0\n",
        "  )\n",
        "  datagen.fit(x_train)\n",
        "\n",
        "  history=model.fit(x_train,y_train,batch_size=batch_size,epochs=epochs,validation_data=(x_test,y_test),shuffle=True)\n"
      ],
      "execution_count": 51,
      "outputs": [
        {
          "output_type": "stream",
          "text": [
            "Using real-time data augmentation.\n",
            "\n",
            "Train on 50000 samples, validate on 10000 samples\n",
            "Epoch 1/20\n",
            "50000/50000 [==============================] - 71s 1ms/step - loss: 2.3088 - acc: 0.0987 - val_loss: 2.3048 - val_acc: 0.1000\n",
            "Epoch 2/20\n",
            "50000/50000 [==============================] - 71s 1ms/step - loss: 2.3083 - acc: 0.0993 - val_loss: 2.3107 - val_acc: 0.1000\n",
            "Epoch 3/20\n",
            "50000/50000 [==============================] - 72s 1ms/step - loss: 2.3080 - acc: 0.1011 - val_loss: 2.3080 - val_acc: 0.1000\n",
            "Epoch 4/20\n",
            "50000/50000 [==============================] - 73s 1ms/step - loss: 2.3078 - acc: 0.1002 - val_loss: 2.3082 - val_acc: 0.1000\n",
            "Epoch 5/20\n",
            "50000/50000 [==============================] - 72s 1ms/step - loss: 2.3080 - acc: 0.1001 - val_loss: 2.3083 - val_acc: 0.1000\n",
            "Epoch 6/20\n",
            "50000/50000 [==============================] - 73s 1ms/step - loss: 2.3078 - acc: 0.1013 - val_loss: 2.3086 - val_acc: 0.1049\n",
            "Epoch 7/20\n",
            "50000/50000 [==============================] - 73s 1ms/step - loss: 2.3080 - acc: 0.0999 - val_loss: 2.3090 - val_acc: 0.1000\n",
            "Epoch 8/20\n",
            "50000/50000 [==============================] - 74s 1ms/step - loss: 2.3082 - acc: 0.0990 - val_loss: 2.3042 - val_acc: 0.1000\n",
            "Epoch 9/20\n",
            "50000/50000 [==============================] - 72s 1ms/step - loss: 2.3077 - acc: 0.1006 - val_loss: 2.3074 - val_acc: 0.1000\n",
            "Epoch 10/20\n",
            "50000/50000 [==============================] - 69s 1ms/step - loss: 2.3081 - acc: 0.0985 - val_loss: 2.3067 - val_acc: 0.1000\n",
            "Epoch 11/20\n",
            "50000/50000 [==============================] - 68s 1ms/step - loss: 2.3076 - acc: 0.1012 - val_loss: 2.3058 - val_acc: 0.1000\n",
            "Epoch 12/20\n",
            "50000/50000 [==============================] - 70s 1ms/step - loss: 2.3076 - acc: 0.1014 - val_loss: 2.3082 - val_acc: 0.1000\n",
            "Epoch 13/20\n",
            "50000/50000 [==============================] - 68s 1ms/step - loss: 2.3075 - acc: 0.0988 - val_loss: 2.3088 - val_acc: 0.1000\n",
            "Epoch 14/20\n",
            "50000/50000 [==============================] - 71s 1ms/step - loss: 2.3076 - acc: 0.0966 - val_loss: 2.3060 - val_acc: 0.1000\n",
            "Epoch 15/20\n",
            "50000/50000 [==============================] - 70s 1ms/step - loss: 2.3073 - acc: 0.0992 - val_loss: 2.3071 - val_acc: 0.1000\n",
            "Epoch 16/20\n",
            "50000/50000 [==============================] - 71s 1ms/step - loss: 2.3073 - acc: 0.1016 - val_loss: 2.3045 - val_acc: 0.1000\n",
            "Epoch 17/20\n",
            "50000/50000 [==============================] - 72s 1ms/step - loss: 2.3072 - acc: 0.1009 - val_loss: 2.3045 - val_acc: 0.1000\n",
            "Epoch 18/20\n",
            "50000/50000 [==============================] - 71s 1ms/step - loss: 2.3071 - acc: 0.1012 - val_loss: 2.3075 - val_acc: 0.1000\n",
            "Epoch 19/20\n",
            "50000/50000 [==============================] - 69s 1ms/step - loss: 2.3072 - acc: 0.1021 - val_loss: 2.3095 - val_acc: 0.1000\n",
            "Epoch 20/20\n",
            "50000/50000 [==============================] - 68s 1ms/step - loss: 2.3068 - acc: 0.1025 - val_loss: 2.3076 - val_acc: 0.1000\n"
          ],
          "name": "stdout"
        }
      ]
    },
    {
      "cell_type": "code",
      "metadata": {
        "id": "as2DCppPFzgq",
        "colab_type": "code",
        "colab": {
          "base_uri": "https://localhost:8080/",
          "height": 85
        },
        "outputId": "cee322cc-6914-4c05-8349-060e258a7a92"
      },
      "source": [
        "if not os.path.isdir(save_dir):\n",
        "  os.makedirs(save_dir)\n",
        "model_path=os.path.join(save_dir,model_name)\n",
        "model.save(model_path)\n",
        "print('Saved trained model at %s' %model_path)\n",
        "\n",
        "scores=model.evaluate(x_test,y_test,verbose=1)\n",
        "print('Test loss:',scores[0])\n",
        "print('Test accuracy:',scores[1])"
      ],
      "execution_count": 52,
      "outputs": [
        {
          "output_type": "stream",
          "text": [
            "Saved trained model at /content/saved_models/keras_cifar10_trained_model.h5\n",
            "10000/10000 [==============================] - 1s 90us/step\n",
            "Test loss: 2.307603866958618\n",
            "Test accuracy: 0.1\n"
          ],
          "name": "stdout"
        }
      ]
    },
    {
      "cell_type": "code",
      "metadata": {
        "id": "g48-4xsrGT4Q",
        "colab_type": "code",
        "colab": {
          "base_uri": "https://localhost:8080/",
          "height": 573
        },
        "outputId": "cddd7ca4-4ed5-4439-89f4-9ccf341a6056"
      },
      "source": [
        "import matplotlib.pyplot as plt\n",
        "%matplotlib inline\n",
        "\n",
        "plt.plot(history.history['acc'])\n",
        "plt.plot(history.history['val_acc'])\n",
        "plt.title('Model accuracy-SGD')\n",
        "plt.ylabel('Accuracy')\n",
        "plt.xlabel('Epoch')\n",
        "plt.legend(['Train','Validation'],loc='upper left')\n",
        "plt.show()\n",
        "\n",
        "plt.plot(history.history['loss'])\n",
        "plt.plot(history.history['val_loss'])\n",
        "plt.title('Model loss-SGD')\n",
        "plt.ylabel('Loss')\n",
        "plt.xlabel('Epoch')\n",
        "plt.legend(['Train','Validation'],loc='upper left')\n",
        "plt.show()"
      ],
      "execution_count": 53,
      "outputs": [
        {
          "output_type": "display_data",
          "data": {
            "image/png": "[encoded data removed]",
            "text/plain": [
              "<Figure size 432x288 with 1 Axes>"
            ]
          },
          "metadata": {
            "tags": []
          }
        },
        {
          "output_type": "display_data",
          "data": {
            "image/png": "[encoded data removed]",
            "text/plain": [
              "<Figure size 432x288 with 1 Axes>"
            ]
          },
          "metadata": {
            "tags": []
          }
        }
      ]
    }
  ]
}