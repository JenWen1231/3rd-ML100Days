{
  "nbformat": 4,
  "nbformat_minor": 0,
  "metadata": {
    "colab": {
      "name": "Day_072_HW_JWEN.ipynb",
      "provenance": [],
      "collapsed_sections": []
    },
    "kernelspec": {
      "name": "python3",
      "display_name": "Python 3"
    },
    "accelerator": "GPU"
  },
  "cells": [
    {
      "cell_type": "code",
      "metadata": {
        "id": "s6IwokIaBtKA",
        "colab_type": "code",
        "colab": {}
      },
      "source": [
        "import numpy as np\n",
        "from numpy import *\n",
        "import matplotlib.pylab as plt\n",
        "%matplotlib inline\n",
        "\n",
        "#relu function is lambda x: max(0,x)\n",
        "def Relu(x):\n",
        "  return map(lambda x:x if x>0 else 0,x)\n",
        "\n",
        "def dRelu(x):\n",
        "  return float(map(lambda x:x if x<0 else x,0))"
      ],
      "execution_count": 0,
      "outputs": []
    },
    {
      "cell_type": "code",
      "metadata": {
        "id": "rLEL893gDh86",
        "colab_type": "code",
        "colab": {
          "base_uri": "https://localhost:8080/",
          "height": 281
        },
        "outputId": "db63c639-a8c2-4d02-e867-4142adf835d8"
      },
      "source": [
        "x=np.arange(-10,10,0.01)\n",
        "y=list(Relu(x))\n",
        "\n",
        "plt.plot(x,y)\n",
        "plt.grid(color='b',linewidth='0.1',linestyle='--')\n",
        "plt.title('Relu Function')\n",
        "\n",
        "plt.show()\n"
      ],
      "execution_count": 29,
      "outputs": [
        {
          "output_type": "display_data",
          "data": {
            "image/png": "[encoded data removed]",
            "text/plain": [
              "<Figure size 432x288 with 1 Axes>"
            ]
          },
          "metadata": {
            "tags": []
          }
        }
      ]
    }
  ]
}