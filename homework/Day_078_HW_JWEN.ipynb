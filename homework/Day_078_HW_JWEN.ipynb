{
  "nbformat": 4,
  "nbformat_minor": 0,
  "metadata": {
    "colab": {
      "name": "Day_078_HW_JWEN.ipynb",
      "provenance": [],
      "collapsed_sections": []
    },
    "kernelspec": {
      "name": "python3",
      "display_name": "Python 3"
    },
    "accelerator": "GPU"
  },
  "cells": [
    {
      "cell_type": "code",
      "metadata": {
        "id": "rQi-gUi9ty-l",
        "colab_type": "code",
        "colab": {}
      },
      "source": [
        "#!nvidia-smi #use in Linux"
      ],
      "execution_count": 0,
      "outputs": []
    },
    {
      "cell_type": "code",
      "metadata": {
        "id": "LZ10_EsWt9ou",
        "colab_type": "code",
        "colab": {}
      },
      "source": [
        "import os\n",
        "import keras\n",
        "\n",
        "os.environ['CUDA_VISIBLE_DEVICES']='0'"
      ],
      "execution_count": 0,
      "outputs": []
    },
    {
      "cell_type": "code",
      "metadata": {
        "id": "q1x6kt4ZubOR",
        "colab_type": "code",
        "colab": {}
      },
      "source": [
        "train,test=keras.datasets.cifar10.load_data()"
      ],
      "execution_count": 0,
      "outputs": []
    },
    {
      "cell_type": "code",
      "metadata": {
        "id": "4m0jkAwCugRC",
        "colab_type": "code",
        "colab": {}
      },
      "source": [
        "def preproc_x(x,flatten=True):\n",
        "  x=x/255.\n",
        "  if flatten:\n",
        "    x=x.reshape((len(x),-1))\n",
        "  return x\n",
        "\n",
        "def preproc_y(y,num_classes=10):\n",
        "  if y.shape[-1]==1:\n",
        "    y=keras.utils.to_categorical(y,num_classes)\n",
        "  return y"
      ],
      "execution_count": 0,
      "outputs": []
    },
    {
      "cell_type": "code",
      "metadata": {
        "id": "aReRAD7hu--i",
        "colab_type": "code",
        "colab": {}
      },
      "source": [
        "x_train,y_train=train\n",
        "x_test,y_test=test\n",
        "\n",
        "x_train=preproc_x(x_train)\n",
        "x_test=preproc_x(x_test)\n",
        "\n",
        "y_train=preproc_y(y_train)\n",
        "y_test=preproc_y(y_test)"
      ],
      "execution_count": 0,
      "outputs": []
    },
    {
      "cell_type": "code",
      "metadata": {
        "id": "J-S0Xkvj5-3v",
        "colab_type": "code",
        "colab": {}
      },
      "source": [
        "def build_mlp(input_shape, output_units=10, num_neurons=[512, 256, 128,4,64]):\n",
        "    input_layer = keras.layers.Input(input_shape)\n",
        "    \n",
        "    for i, n_units in enumerate(num_neurons):\n",
        "        if i == 0:\n",
        "            x = keras.layers.Dense(units=n_units, activation=\"relu\", name=\"hidden_layer\"+str(i+1))(input_layer)\n",
        "        else:\n",
        "            x = keras.layers.Dense(units=n_units, activation=\"relu\", name=\"hidden_layer\"+str(i+1))(x)\n",
        "    \n",
        "    out = keras.layers.Dense(units=output_units, activation=\"softmax\", name=\"output\")(x)\n",
        "    \n",
        "    model = keras.models.Model(inputs=[input_layer], outputs=[out])\n",
        "    return model"
      ],
      "execution_count": 0,
      "outputs": []
    },
    {
      "cell_type": "code",
      "metadata": {
        "id": "A0nMTNV9w9kf",
        "colab_type": "code",
        "colab": {
          "base_uri": "https://localhost:8080/",
          "height": 391
        },
        "outputId": "2189aa6d-a81b-46c6-ab65-653af3f42c1b"
      },
      "source": [
        "model=build_mlp(input_shape=x_train.shape[1:])\n",
        "model.summary()"
      ],
      "execution_count": 51,
      "outputs": [
        {
          "output_type": "stream",
          "text": [
            "Model: \"model_3\"\n",
            "_________________________________________________________________\n",
            "Layer (type)                 Output Shape              Param #   \n",
            "=================================================================\n",
            "input_10 (InputLayer)        (None, 3072)              0         \n",
            "_________________________________________________________________\n",
            "hidden_layer1 (Dense)        (None, 512)               1573376   \n",
            "_________________________________________________________________\n",
            "hidden_layer2 (Dense)        (None, 256)               131328    \n",
            "_________________________________________________________________\n",
            "hidden_layer3 (Dense)        (None, 128)               32896     \n",
            "_________________________________________________________________\n",
            "hidden_layer4 (Dense)        (None, 4)                 516       \n",
            "_________________________________________________________________\n",
            "hidden_layer5 (Dense)        (None, 64)                320       \n",
            "_________________________________________________________________\n",
            "output (Dense)               (None, 10)                650       \n",
            "=================================================================\n",
            "Total params: 1,739,086\n",
            "Trainable params: 1,739,086\n",
            "Non-trainable params: 0\n",
            "_________________________________________________________________\n"
          ],
          "name": "stdout"
        }
      ]
    },
    {
      "cell_type": "code",
      "metadata": {
        "id": "v3SZykXSxEIc",
        "colab_type": "code",
        "colab": {}
      },
      "source": [
        "LEARNING_RATE=0.001\n",
        "EPOCHS=100\n",
        "BATCH_SIZE=256"
      ],
      "execution_count": 0,
      "outputs": []
    },
    {
      "cell_type": "code",
      "metadata": {
        "id": "9zvF-uAwxMOa",
        "colab_type": "code",
        "colab": {
          "base_uri": "https://localhost:8080/",
          "height": 105
        },
        "outputId": "2f6aa1a0-e0e4-4972-ccf4-075b1922cec0"
      },
      "source": [
        "optimizer=keras.optimizers.Adam(lr=LEARNING_RATE)\n",
        "model.compile(loss='categorical_crossentropy',metrics=['accuracy'],optimizer=optimizer)"
      ],
      "execution_count": 53,
      "outputs": [
        {
          "output_type": "stream",
          "text": [
            "WARNING:tensorflow:From /usr/local/lib/python3.6/dist-packages/keras/optimizers.py:793: The name tf.train.Optimizer is deprecated. Please use tf.compat.v1.train.Optimizer instead.\n",
            "\n",
            "WARNING:tensorflow:From /usr/local/lib/python3.6/dist-packages/keras/backend/tensorflow_backend.py:3576: The name tf.log is deprecated. Please use tf.math.log instead.\n",
            "\n"
          ],
          "name": "stdout"
        }
      ]
    },
    {
      "cell_type": "code",
      "metadata": {
        "id": "nnn19gwXxc9-",
        "colab_type": "code",
        "colab": {
          "base_uri": "https://localhost:8080/",
          "height": 1000
        },
        "outputId": "8218a216-6a16-4138-9b49-5704d1c06e36"
      },
      "source": [
        "model.fit(x_train,y_train,epochs=EPOCHS,batch_size=BATCH_SIZE,validation_data=(x_test,y_test),shuffle=True)"
      ],
      "execution_count": 54,
      "outputs": [
        {
          "output_type": "stream",
          "text": [
            "WARNING:tensorflow:From /usr/local/lib/python3.6/dist-packages/tensorflow_core/python/ops/math_grad.py:1424: where (from tensorflow.python.ops.array_ops) is deprecated and will be removed in a future version.\n",
            "Instructions for updating:\n",
            "Use tf.where in 2.0, which has the same broadcast rule as np.where\n",
            "WARNING:tensorflow:From /usr/local/lib/python3.6/dist-packages/keras/backend/tensorflow_backend.py:1033: The name tf.assign_add is deprecated. Please use tf.compat.v1.assign_add instead.\n",
            "\n",
            "WARNING:tensorflow:From /usr/local/lib/python3.6/dist-packages/keras/backend/tensorflow_backend.py:1020: The name tf.assign is deprecated. Please use tf.compat.v1.assign instead.\n",
            "\n",
            "WARNING:tensorflow:From /usr/local/lib/python3.6/dist-packages/keras/backend/tensorflow_backend.py:3005: The name tf.Session is deprecated. Please use tf.compat.v1.Session instead.\n",
            "\n",
            "Train on 50000 samples, validate on 10000 samples\n",
            "Epoch 1/100\n",
            "WARNING:tensorflow:From /usr/local/lib/python3.6/dist-packages/keras/backend/tensorflow_backend.py:190: The name tf.get_default_session is deprecated. Please use tf.compat.v1.get_default_session instead.\n",
            "\n",
            "WARNING:tensorflow:From /usr/local/lib/python3.6/dist-packages/keras/backend/tensorflow_backend.py:197: The name tf.ConfigProto is deprecated. Please use tf.compat.v1.ConfigProto instead.\n",
            "\n",
            "WARNING:tensorflow:From /usr/local/lib/python3.6/dist-packages/keras/backend/tensorflow_backend.py:207: The name tf.global_variables is deprecated. Please use tf.compat.v1.global_variables instead.\n",
            "\n",
            "WARNING:tensorflow:From /usr/local/lib/python3.6/dist-packages/keras/backend/tensorflow_backend.py:216: The name tf.is_variable_initialized is deprecated. Please use tf.compat.v1.is_variable_initialized instead.\n",
            "\n",
            "WARNING:tensorflow:From /usr/local/lib/python3.6/dist-packages/keras/backend/tensorflow_backend.py:223: The name tf.variables_initializer is deprecated. Please use tf.compat.v1.variables_initializer instead.\n",
            "\n",
            "50000/50000 [==============================] - 12s 236us/step - loss: 2.3031 - acc: 0.1001 - val_loss: 2.3026 - val_acc: 0.1000\n",
            "Epoch 2/100\n",
            "50000/50000 [==============================] - 2s 38us/step - loss: 2.3027 - acc: 0.0978 - val_loss: 2.3026 - val_acc: 0.1000\n",
            "Epoch 3/100\n",
            "50000/50000 [==============================] - 2s 40us/step - loss: 2.3027 - acc: 0.0980 - val_loss: 2.3026 - val_acc: 0.1000\n",
            "Epoch 4/100\n",
            "50000/50000 [==============================] - 2s 40us/step - loss: 2.3027 - acc: 0.0967 - val_loss: 2.3026 - val_acc: 0.1000\n",
            "Epoch 5/100\n",
            "50000/50000 [==============================] - 2s 42us/step - loss: 2.3027 - acc: 0.0972 - val_loss: 2.3026 - val_acc: 0.1000\n",
            "Epoch 6/100\n",
            "50000/50000 [==============================] - 2s 35us/step - loss: 2.3027 - acc: 0.0978 - val_loss: 2.3026 - val_acc: 0.1000\n",
            "Epoch 7/100\n",
            "50000/50000 [==============================] - 2s 39us/step - loss: 2.3027 - acc: 0.0983 - val_loss: 2.3026 - val_acc: 0.1000\n",
            "Epoch 8/100\n",
            "50000/50000 [==============================] - 2s 38us/step - loss: 2.3027 - acc: 0.0953 - val_loss: 2.3026 - val_acc: 0.1000\n",
            "Epoch 9/100\n",
            "50000/50000 [==============================] - 2s 38us/step - loss: 2.3027 - acc: 0.0974 - val_loss: 2.3026 - val_acc: 0.1000\n",
            "Epoch 10/100\n",
            "50000/50000 [==============================] - 2s 37us/step - loss: 2.3027 - acc: 0.0955 - val_loss: 2.3026 - val_acc: 0.1000\n",
            "Epoch 11/100\n",
            "50000/50000 [==============================] - 2s 39us/step - loss: 2.3027 - acc: 0.0980 - val_loss: 2.3026 - val_acc: 0.1000\n",
            "Epoch 12/100\n",
            "50000/50000 [==============================] - 2s 38us/step - loss: 2.3027 - acc: 0.0982 - val_loss: 2.3026 - val_acc: 0.1000\n",
            "Epoch 13/100\n",
            "50000/50000 [==============================] - 2s 38us/step - loss: 2.3027 - acc: 0.0976 - val_loss: 2.3026 - val_acc: 0.1000\n",
            "Epoch 14/100\n",
            "50000/50000 [==============================] - 2s 36us/step - loss: 2.3027 - acc: 0.0960 - val_loss: 2.3026 - val_acc: 0.1000\n",
            "Epoch 15/100\n",
            "50000/50000 [==============================] - 2s 37us/step - loss: 2.3027 - acc: 0.0967 - val_loss: 2.3026 - val_acc: 0.1000\n",
            "Epoch 16/100\n",
            "50000/50000 [==============================] - 2s 35us/step - loss: 2.3027 - acc: 0.0975 - val_loss: 2.3026 - val_acc: 0.1000\n",
            "Epoch 17/100\n",
            "50000/50000 [==============================] - 2s 37us/step - loss: 2.3027 - acc: 0.0970 - val_loss: 2.3026 - val_acc: 0.1000\n",
            "Epoch 18/100\n",
            "50000/50000 [==============================] - 2s 37us/step - loss: 2.3027 - acc: 0.0974 - val_loss: 2.3026 - val_acc: 0.1000\n",
            "Epoch 19/100\n",
            "50000/50000 [==============================] - 2s 37us/step - loss: 2.3027 - acc: 0.0967 - val_loss: 2.3026 - val_acc: 0.1000\n",
            "Epoch 20/100\n",
            "50000/50000 [==============================] - 2s 38us/step - loss: 2.3027 - acc: 0.0981 - val_loss: 2.3026 - val_acc: 0.1000\n",
            "Epoch 21/100\n",
            "50000/50000 [==============================] - 2s 38us/step - loss: 2.3027 - acc: 0.1003 - val_loss: 2.3026 - val_acc: 0.1000\n",
            "Epoch 22/100\n",
            "50000/50000 [==============================] - 2s 37us/step - loss: 2.3027 - acc: 0.0976 - val_loss: 2.3026 - val_acc: 0.1000\n",
            "Epoch 23/100\n",
            "50000/50000 [==============================] - 2s 38us/step - loss: 2.3027 - acc: 0.0972 - val_loss: 2.3026 - val_acc: 0.1000\n",
            "Epoch 24/100\n",
            "50000/50000 [==============================] - 2s 36us/step - loss: 2.3027 - acc: 0.0980 - val_loss: 2.3026 - val_acc: 0.1000\n",
            "Epoch 25/100\n",
            "50000/50000 [==============================] - 2s 40us/step - loss: 2.3027 - acc: 0.0973 - val_loss: 2.3026 - val_acc: 0.1000\n",
            "Epoch 26/100\n",
            "50000/50000 [==============================] - 2s 37us/step - loss: 2.3027 - acc: 0.0969 - val_loss: 2.3026 - val_acc: 0.1000\n",
            "Epoch 27/100\n",
            "50000/50000 [==============================] - 2s 35us/step - loss: 2.3027 - acc: 0.0948 - val_loss: 2.3026 - val_acc: 0.1000\n",
            "Epoch 28/100\n",
            "50000/50000 [==============================] - 2s 38us/step - loss: 2.3027 - acc: 0.0972 - val_loss: 2.3026 - val_acc: 0.1000\n",
            "Epoch 29/100\n",
            "50000/50000 [==============================] - 2s 38us/step - loss: 2.3027 - acc: 0.0980 - val_loss: 2.3026 - val_acc: 0.1000\n",
            "Epoch 30/100\n",
            "50000/50000 [==============================] - 2s 38us/step - loss: 2.3027 - acc: 0.0986 - val_loss: 2.3026 - val_acc: 0.1000\n",
            "Epoch 31/100\n",
            "50000/50000 [==============================] - 2s 37us/step - loss: 2.3027 - acc: 0.0976 - val_loss: 2.3026 - val_acc: 0.1000\n",
            "Epoch 32/100\n",
            "50000/50000 [==============================] - 2s 39us/step - loss: 2.3026 - acc: 0.0997 - val_loss: 2.3026 - val_acc: 0.1000\n",
            "Epoch 33/100\n",
            "50000/50000 [==============================] - 2s 35us/step - loss: 2.3027 - acc: 0.0974 - val_loss: 2.3026 - val_acc: 0.1000\n",
            "Epoch 34/100\n",
            "50000/50000 [==============================] - 2s 36us/step - loss: 2.3027 - acc: 0.0963 - val_loss: 2.3026 - val_acc: 0.1000\n",
            "Epoch 35/100\n",
            "50000/50000 [==============================] - 2s 35us/step - loss: 2.3027 - acc: 0.0981 - val_loss: 2.3026 - val_acc: 0.1000\n",
            "Epoch 36/100\n",
            "50000/50000 [==============================] - 2s 34us/step - loss: 2.3027 - acc: 0.0991 - val_loss: 2.3026 - val_acc: 0.1000\n",
            "Epoch 37/100\n",
            "50000/50000 [==============================] - 2s 38us/step - loss: 2.3027 - acc: 0.0991 - val_loss: 2.3026 - val_acc: 0.1000\n",
            "Epoch 38/100\n",
            "50000/50000 [==============================] - 2s 34us/step - loss: 2.3027 - acc: 0.0972 - val_loss: 2.3026 - val_acc: 0.1000\n",
            "Epoch 39/100\n",
            "50000/50000 [==============================] - 2s 37us/step - loss: 2.3027 - acc: 0.0990 - val_loss: 2.3026 - val_acc: 0.1000\n",
            "Epoch 40/100\n",
            "50000/50000 [==============================] - 2s 38us/step - loss: 2.3027 - acc: 0.0981 - val_loss: 2.3026 - val_acc: 0.1000\n",
            "Epoch 41/100\n",
            "50000/50000 [==============================] - 2s 36us/step - loss: 2.3027 - acc: 0.0968 - val_loss: 2.3026 - val_acc: 0.1000\n",
            "Epoch 42/100\n",
            "50000/50000 [==============================] - 2s 36us/step - loss: 2.3027 - acc: 0.0971 - val_loss: 2.3026 - val_acc: 0.1000\n",
            "Epoch 43/100\n",
            "50000/50000 [==============================] - 2s 35us/step - loss: 2.3027 - acc: 0.0987 - val_loss: 2.3026 - val_acc: 0.1000\n",
            "Epoch 44/100\n",
            "50000/50000 [==============================] - 2s 36us/step - loss: 2.3027 - acc: 0.0978 - val_loss: 2.3026 - val_acc: 0.1000\n",
            "Epoch 45/100\n",
            "50000/50000 [==============================] - 2s 36us/step - loss: 2.3027 - acc: 0.0971 - val_loss: 2.3026 - val_acc: 0.1000\n",
            "Epoch 46/100\n",
            "50000/50000 [==============================] - 2s 35us/step - loss: 2.3027 - acc: 0.0984 - val_loss: 2.3026 - val_acc: 0.1000\n",
            "Epoch 47/100\n",
            "50000/50000 [==============================] - 2s 37us/step - loss: 2.3027 - acc: 0.0996 - val_loss: 2.3026 - val_acc: 0.1000\n",
            "Epoch 48/100\n",
            "50000/50000 [==============================] - 2s 37us/step - loss: 2.3027 - acc: 0.0979 - val_loss: 2.3026 - val_acc: 0.1000\n",
            "Epoch 49/100\n",
            "50000/50000 [==============================] - 2s 35us/step - loss: 2.3027 - acc: 0.0989 - val_loss: 2.3026 - val_acc: 0.1000\n",
            "Epoch 50/100\n",
            "50000/50000 [==============================] - 2s 36us/step - loss: 2.3027 - acc: 0.0973 - val_loss: 2.3026 - val_acc: 0.1000\n",
            "Epoch 51/100\n",
            "50000/50000 [==============================] - 2s 36us/step - loss: 2.3027 - acc: 0.0951 - val_loss: 2.3026 - val_acc: 0.1000\n",
            "Epoch 52/100\n",
            "50000/50000 [==============================] - 2s 35us/step - loss: 2.3027 - acc: 0.0990 - val_loss: 2.3026 - val_acc: 0.1000\n",
            "Epoch 53/100\n",
            "50000/50000 [==============================] - 2s 36us/step - loss: 2.3027 - acc: 0.0977 - val_loss: 2.3026 - val_acc: 0.1000\n",
            "Epoch 54/100\n",
            "50000/50000 [==============================] - 2s 36us/step - loss: 2.3027 - acc: 0.0975 - val_loss: 2.3026 - val_acc: 0.1000\n",
            "Epoch 55/100\n",
            "50000/50000 [==============================] - 2s 34us/step - loss: 2.3027 - acc: 0.0965 - val_loss: 2.3026 - val_acc: 0.1000\n",
            "Epoch 56/100\n",
            "50000/50000 [==============================] - 2s 37us/step - loss: 2.3027 - acc: 0.1001 - val_loss: 2.3026 - val_acc: 0.1000\n",
            "Epoch 57/100\n",
            "50000/50000 [==============================] - 2s 34us/step - loss: 2.3027 - acc: 0.0977 - val_loss: 2.3026 - val_acc: 0.1000\n",
            "Epoch 58/100\n",
            "50000/50000 [==============================] - 2s 35us/step - loss: 2.3027 - acc: 0.0971 - val_loss: 2.3026 - val_acc: 0.1000\n",
            "Epoch 59/100\n",
            "50000/50000 [==============================] - 2s 36us/step - loss: 2.3027 - acc: 0.0989 - val_loss: 2.3026 - val_acc: 0.1000\n",
            "Epoch 60/100\n",
            "50000/50000 [==============================] - 2s 36us/step - loss: 2.3026 - acc: 0.0987 - val_loss: 2.3026 - val_acc: 0.1000\n",
            "Epoch 61/100\n",
            "50000/50000 [==============================] - 2s 37us/step - loss: 2.3027 - acc: 0.0985 - val_loss: 2.3026 - val_acc: 0.1000\n",
            "Epoch 62/100\n",
            "50000/50000 [==============================] - 2s 37us/step - loss: 2.3026 - acc: 0.0992 - val_loss: 2.3026 - val_acc: 0.1000\n",
            "Epoch 63/100\n",
            "50000/50000 [==============================] - 2s 36us/step - loss: 2.3027 - acc: 0.0964 - val_loss: 2.3026 - val_acc: 0.1000\n",
            "Epoch 64/100\n",
            "50000/50000 [==============================] - 2s 35us/step - loss: 2.3027 - acc: 0.0990 - val_loss: 2.3026 - val_acc: 0.1000\n",
            "Epoch 65/100\n",
            "50000/50000 [==============================] - 2s 38us/step - loss: 2.3027 - acc: 0.0979 - val_loss: 2.3026 - val_acc: 0.1000\n",
            "Epoch 66/100\n",
            "50000/50000 [==============================] - 2s 35us/step - loss: 2.3027 - acc: 0.0985 - val_loss: 2.3026 - val_acc: 0.1000\n",
            "Epoch 67/100\n",
            "50000/50000 [==============================] - 2s 37us/step - loss: 2.3027 - acc: 0.0982 - val_loss: 2.3026 - val_acc: 0.1000\n",
            "Epoch 68/100\n",
            "50000/50000 [==============================] - 2s 39us/step - loss: 2.3027 - acc: 0.0973 - val_loss: 2.3026 - val_acc: 0.1000\n",
            "Epoch 69/100\n",
            "50000/50000 [==============================] - 2s 39us/step - loss: 2.3027 - acc: 0.0977 - val_loss: 2.3026 - val_acc: 0.1000\n",
            "Epoch 70/100\n",
            "50000/50000 [==============================] - 3s 54us/step - loss: 2.3026 - acc: 0.0984 - val_loss: 2.3026 - val_acc: 0.1000\n",
            "Epoch 71/100\n",
            "50000/50000 [==============================] - 2s 40us/step - loss: 2.3027 - acc: 0.0965 - val_loss: 2.3026 - val_acc: 0.1000\n",
            "Epoch 72/100\n",
            "50000/50000 [==============================] - 2s 39us/step - loss: 2.3027 - acc: 0.0979 - val_loss: 2.3026 - val_acc: 0.1000\n",
            "Epoch 73/100\n",
            "50000/50000 [==============================] - 2s 36us/step - loss: 2.3027 - acc: 0.0981 - val_loss: 2.3026 - val_acc: 0.1000\n",
            "Epoch 74/100\n",
            "50000/50000 [==============================] - 2s 35us/step - loss: 2.3027 - acc: 0.0972 - val_loss: 2.3026 - val_acc: 0.1000\n",
            "Epoch 75/100\n",
            "50000/50000 [==============================] - 2s 37us/step - loss: 2.3027 - acc: 0.0969 - val_loss: 2.3026 - val_acc: 0.1000\n",
            "Epoch 76/100\n",
            "50000/50000 [==============================] - 2s 39us/step - loss: 2.3027 - acc: 0.0982 - val_loss: 2.3026 - val_acc: 0.1000\n",
            "Epoch 77/100\n",
            "50000/50000 [==============================] - 2s 37us/step - loss: 2.3027 - acc: 0.0990 - val_loss: 2.3026 - val_acc: 0.1000\n",
            "Epoch 78/100\n",
            "50000/50000 [==============================] - 2s 37us/step - loss: 2.3027 - acc: 0.0980 - val_loss: 2.3026 - val_acc: 0.1000\n",
            "Epoch 79/100\n",
            "50000/50000 [==============================] - 2s 37us/step - loss: 2.3027 - acc: 0.0986 - val_loss: 2.3026 - val_acc: 0.1000\n",
            "Epoch 80/100\n",
            "50000/50000 [==============================] - 2s 36us/step - loss: 2.3027 - acc: 0.0980 - val_loss: 2.3026 - val_acc: 0.1000\n",
            "Epoch 81/100\n",
            "50000/50000 [==============================] - 2s 35us/step - loss: 2.3027 - acc: 0.0975 - val_loss: 2.3026 - val_acc: 0.1000\n",
            "Epoch 82/100\n",
            "50000/50000 [==============================] - 2s 35us/step - loss: 2.3027 - acc: 0.0984 - val_loss: 2.3026 - val_acc: 0.1000\n",
            "Epoch 83/100\n",
            "50000/50000 [==============================] - 2s 36us/step - loss: 2.3027 - acc: 0.0990 - val_loss: 2.3026 - val_acc: 0.1000\n",
            "Epoch 84/100\n",
            "50000/50000 [==============================] - 2s 35us/step - loss: 2.3027 - acc: 0.0965 - val_loss: 2.3026 - val_acc: 0.1000\n",
            "Epoch 85/100\n",
            "50000/50000 [==============================] - 2s 36us/step - loss: 2.3027 - acc: 0.0971 - val_loss: 2.3026 - val_acc: 0.1000\n",
            "Epoch 86/100\n",
            "50000/50000 [==============================] - 2s 36us/step - loss: 2.3027 - acc: 0.0978 - val_loss: 2.3026 - val_acc: 0.1000\n",
            "Epoch 87/100\n",
            "50000/50000 [==============================] - 2s 36us/step - loss: 2.3027 - acc: 0.0968 - val_loss: 2.3026 - val_acc: 0.1000\n",
            "Epoch 88/100\n",
            "50000/50000 [==============================] - 2s 37us/step - loss: 2.3027 - acc: 0.0993 - val_loss: 2.3026 - val_acc: 0.1000\n",
            "Epoch 89/100\n",
            "50000/50000 [==============================] - 2s 39us/step - loss: 2.3027 - acc: 0.0979 - val_loss: 2.3026 - val_acc: 0.1000\n",
            "Epoch 90/100\n",
            "50000/50000 [==============================] - 2s 38us/step - loss: 2.3027 - acc: 0.0988 - val_loss: 2.3026 - val_acc: 0.1000\n",
            "Epoch 91/100\n",
            "50000/50000 [==============================] - 2s 38us/step - loss: 2.3027 - acc: 0.0982 - val_loss: 2.3026 - val_acc: 0.1000\n",
            "Epoch 92/100\n",
            "50000/50000 [==============================] - 2s 37us/step - loss: 2.3027 - acc: 0.0972 - val_loss: 2.3026 - val_acc: 0.1000\n",
            "Epoch 93/100\n",
            "50000/50000 [==============================] - 2s 37us/step - loss: 2.3027 - acc: 0.0994 - val_loss: 2.3026 - val_acc: 0.1000\n",
            "Epoch 94/100\n",
            "50000/50000 [==============================] - 2s 36us/step - loss: 2.3027 - acc: 0.0981 - val_loss: 2.3026 - val_acc: 0.1000\n",
            "Epoch 95/100\n",
            "50000/50000 [==============================] - 2s 38us/step - loss: 2.3027 - acc: 0.0979 - val_loss: 2.3026 - val_acc: 0.1000\n",
            "Epoch 96/100\n",
            "50000/50000 [==============================] - 2s 38us/step - loss: 2.3027 - acc: 0.0973 - val_loss: 2.3026 - val_acc: 0.1000\n",
            "Epoch 97/100\n",
            "50000/50000 [==============================] - 2s 43us/step - loss: 2.3027 - acc: 0.0991 - val_loss: 2.3026 - val_acc: 0.1000\n",
            "Epoch 98/100\n",
            "50000/50000 [==============================] - 2s 38us/step - loss: 2.3027 - acc: 0.0977 - val_loss: 2.3026 - val_acc: 0.1000\n",
            "Epoch 99/100\n",
            "50000/50000 [==============================] - 2s 37us/step - loss: 2.3026 - acc: 0.0966 - val_loss: 2.3026 - val_acc: 0.1000\n",
            "Epoch 100/100\n",
            "50000/50000 [==============================] - 2s 37us/step - loss: 2.3027 - acc: 0.0995 - val_loss: 2.3026 - val_acc: 0.1000\n"
          ],
          "name": "stdout"
        },
        {
          "output_type": "execute_result",
          "data": {
            "text/plain": [
              "<keras.callbacks.History at 0x7fcfa8900dd8>"
            ]
          },
          "metadata": {
            "tags": []
          },
          "execution_count": 54
        }
      ]
    },
    {
      "cell_type": "code",
      "metadata": {
        "id": "MATliYjE8Ffc",
        "colab_type": "code",
        "colab": {
          "base_uri": "https://localhost:8080/",
          "height": 545
        },
        "outputId": "79ac8f6a-a2bc-4e31-8dcf-113b303edb3b"
      },
      "source": [
        "import matplotlib.pyplot as plt\n",
        "\n",
        "train_loss = model.history.history[\"loss\"]\n",
        "valid_loss = model.history.history[\"val_loss\"]\n",
        "\n",
        "train_acc = model.history.history[\"acc\"]\n",
        "valid_acc = model.history.history[\"val_acc\"]\n",
        "\n",
        "plt.plot(range(len(train_loss)), train_loss, label=\"train loss\")\n",
        "plt.plot(range(len(valid_loss)), valid_loss, label=\"valid loss\")\n",
        "plt.legend()\n",
        "plt.title(\"Loss\")\n",
        "plt.show()\n",
        "\n",
        "plt.plot(range(len(train_acc)), train_acc, label=\"train accuracy\")\n",
        "plt.plot(range(len(valid_acc)), valid_acc, label=\"valid accuracy\")\n",
        "plt.legend()\n",
        "plt.title(\"Accuracy\")\n",
        "plt.show()"
      ],
      "execution_count": 56,
      "outputs": [
        {
          "output_type": "display_data",
          "data": {
            "image/png": "[encoded data removed]",
            "text/plain": [
              "<Figure size 432x288 with 1 Axes>"
            ]
          },
          "metadata": {
            "tags": []
          }
        },
        {
          "output_type": "display_data",
          "data": {
            "image/png": "[encoded data removed]",
            "text/plain": [
              "<Figure size 432x288 with 1 Axes>"
            ]
          },
          "metadata": {
            "tags": []
          }
        }
      ]
    }
  ]
}