{
  "nbformat": 4,
  "nbformat_minor": 0,
  "metadata": {
    "colab": {
      "name": "Day_083_HW_JWEN.ipynb",
      "provenance": [],
      "collapsed_sections": []
    },
    "kernelspec": {
      "name": "python3",
      "display_name": "Python 3"
    },
    "accelerator": "TPU"
  },
  "cells": [
    {
      "cell_type": "code",
      "metadata": {
        "id": "KRKilNRMHPej",
        "colab_type": "code",
        "colab": {}
      },
      "source": [
        "import os\n",
        "import keras\n",
        "\n",
        "os.environ['CUDA_VISIBLE_DEVICES']='0'"
      ],
      "execution_count": 0,
      "outputs": []
    },
    {
      "cell_type": "code",
      "metadata": {
        "id": "R2tvur2vHZwa",
        "colab_type": "code",
        "colab": {}
      },
      "source": [
        "train,test=keras.datasets.cifar10.load_data()"
      ],
      "execution_count": 0,
      "outputs": []
    },
    {
      "cell_type": "code",
      "metadata": {
        "id": "pdL4oLzkHfFF",
        "colab_type": "code",
        "colab": {}
      },
      "source": [
        "def preproc_x(x,flatten=True):\n",
        "  x=x/255.\n",
        "  if flatten:\n",
        "    x=x.reshape((len(x),-1))\n",
        "  return x\n",
        "\n",
        "def preproc_y(y,num_classes=10):\n",
        "  if y.shape[-1]==1:\n",
        "    y=keras.utils.to_categorical(y,num_classes)\n",
        "  return y"
      ],
      "execution_count": 0,
      "outputs": []
    },
    {
      "cell_type": "code",
      "metadata": {
        "id": "ffLauaSwH3xR",
        "colab_type": "code",
        "colab": {}
      },
      "source": [
        "x_train,y_train=train\n",
        "x_test,y_test=test\n",
        "\n",
        "x_train=preproc_x(x_train)\n",
        "x_test=preproc_x(x_test)\n",
        "\n",
        "y_train=preproc_y(y_train)\n",
        "y_test=preproc_y(y_test)"
      ],
      "execution_count": 0,
      "outputs": []
    },
    {
      "cell_type": "code",
      "metadata": {
        "id": "z92XG8ScH8ZQ",
        "colab_type": "code",
        "colab": {}
      },
      "source": [
        "from keras.layers import BatchNormalization\n",
        "\n",
        "def build_mlp(input_shape,output_units=10,num_neurons=[512,256,128]):\n",
        "  input_layer=keras.layers.Input(input_shape)\n",
        "\n",
        "  for i,n_units in enumerate(num_neurons):\n",
        "    if i==0:\n",
        "      x=keras.layers.Dense(units=n_units,activation='relu',name='hidden_layer'+str(i+1))(input_layer)\n",
        "      x=BatchNormalization()(x)\n",
        "    else:\n",
        "      x=keras.layers.Dense(units=n_units,activation='relu',name='hidden_layer'+str(i+1))(x)\n",
        "      x=BatchNormalization()(x)\n",
        "  out=keras.layers.Dense(units=output_units,activation='softmax',name='output')(x)\n",
        "\n",
        "  model=keras.models.Model(inputs=[input_layer],outputs=[out])\n",
        "  return model\n"
      ],
      "execution_count": 0,
      "outputs": []
    },
    {
      "cell_type": "code",
      "metadata": {
        "id": "a5SHtAZQI_PC",
        "colab_type": "code",
        "colab": {}
      },
      "source": [
        "LEARNING_RATE=1e-3\n",
        "EPOCHS=50\n",
        "BATCH_SIZE=[2, 16, 32, 128, 256]\n",
        "MOMENTUM=0.95"
      ],
      "execution_count": 0,
      "outputs": []
    },
    {
      "cell_type": "code",
      "metadata": {
        "id": "fmFZRK-AJIqX",
        "colab_type": "code",
        "colab": {}
      },
      "source": [
        "model=build_mlp(input_shape=x_train.shape[1:])\n",
        "model.summary()\n",
        "optimizer=keras.optimizers.SGD(lr=LEARNING_RATE,nesterov=True,momentum=MOMENTUM)\n",
        "model.compile(loss='categorical_crossentropy',metrics=['accuracy'],optimizer=optimizer)\n",
        "for i,bs in enumerate(BATCH_SIZE):\n",
        "  model.fit(x_train,y_train,epochs=EPOCHS,batch_size=bs,validation_data=(x_test,y_test),shuffle=True)\n",
        "\n",
        "  train_loss[i] = model.history.history[\"loss\"]\n",
        "  valid_loss[i] = model.history.history[\"val_loss\"]\n",
        "  train_acc[i] = model.history.history[\"acc\"]\n",
        "  valid_acc[i] = model.history.history[\"val_acc\"]"
      ],
      "execution_count": 0,
      "outputs": []
    },
    {
      "cell_type": "code",
      "metadata": {
        "id": "HFqBJ86nJuGm",
        "colab_type": "code",
        "colab": {}
      },
      "source": [
        "import matplotlib.pyplot as plt\n",
        "%matplotlib inline\n",
        "\n",
        "for j in range(i):\n",
        "  plt.plot(range(len(train_loss)), train_loss[j], label=\"train loss\")\n",
        "  plt.plot(range(len(valid_loss)), valid_loss[j], label=\"valid loss\")\n",
        "plt.legend()\n",
        "plt.title(\"Loss\")\n",
        "plt.show()\n",
        "\n",
        "for k in range(i):\n",
        "  plt.plot(range(len(train_acc)), train_acc[k], label=\"train accuracy\")\n",
        "  plt.plot(range(len(valid_acc)), valid_acc[k], label=\"valid accuracy\")\n",
        "plt.legend()\n",
        "plt.title(\"Accuracy\")\n",
        "plt.show()"
      ],
      "execution_count": 0,
      "outputs": []
    }
  ]
}