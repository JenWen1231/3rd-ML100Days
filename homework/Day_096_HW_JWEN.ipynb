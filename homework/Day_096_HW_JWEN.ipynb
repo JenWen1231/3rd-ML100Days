{
  "nbformat": 4,
  "nbformat_minor": 0,
  "metadata": {
    "colab": {
      "name": "Day_096_HW_JWEN.ipynb",
      "provenance": [],
      "collapsed_sections": []
    },
    "kernelspec": {
      "name": "python3",
      "display_name": "Python 3"
    },
    "accelerator": "TPU"
  },
  "cells": [
    {
      "cell_type": "code",
      "metadata": {
        "id": "yN90IlFe92Bd",
        "colab_type": "code",
        "outputId": "94a39971-8a96-45d1-83cf-94e281843495",
        "colab": {
          "base_uri": "https://localhost:8080/",
          "height": 97
        }
      },
      "source": [
        "from keras.layers import Conv2D,SeparableConv2D,Input\n",
        "from keras.models import Model"
      ],
      "execution_count": 0,
      "outputs": [
        {
          "output_type": "stream",
          "text": [
            "Using TensorFlow backend.\n"
          ],
          "name": "stderr"
        },
        {
          "output_type": "display_data",
          "data": {
            "text/html": [
              "<p style=\"color: red;\">\n",
              "The default version of TensorFlow in Colab will soon switch to TensorFlow 2.x.<br>\n",
              "We recommend you <a href=\"https://www.tensorflow.org/guide/migrate\" target=\"_blank\">upgrade</a> now \n",
              "or ensure your notebook will continue to use TensorFlow 1.x via the <code>%tensorflow_version 1.x</code> magic:\n",
              "<a href=\"https://colab.research.google.com/notebooks/tensorflow_version.ipynb\" target=\"_blank\">more info</a>.</p>\n"
            ],
            "text/plain": [
              "<IPython.core.display.HTML object>"
            ]
          },
          "metadata": {
            "tags": []
          }
        }
      ]
    },
    {
      "cell_type": "code",
      "metadata": {
        "id": "dmuCQyWw-DHi",
        "colab_type": "code",
        "colab": {}
      },
      "source": [
        "input_image=Input((224,224,3))\n",
        "feature_maps=Conv2D(filters=32,kernel_size=(3,3))(input_image)\n",
        "feature_maps2=Conv2D(filters=64,kernel_size=(3,3))(feature_maps)\n",
        "model=Model(inputs=input_image,outputs=feature_maps2)"
      ],
      "execution_count": 0,
      "outputs": []
    },
    {
      "cell_type": "code",
      "metadata": {
        "id": "XlPTaDqz-cwm",
        "colab_type": "code",
        "outputId": "c471a278-ef4f-4c4b-ce6a-1136cd4120aa",
        "colab": {
          "base_uri": "https://localhost:8080/",
          "height": 255
        }
      },
      "source": [
        "model.summary()"
      ],
      "execution_count": 0,
      "outputs": [
        {
          "output_type": "stream",
          "text": [
            "Model: \"model_1\"\n",
            "_________________________________________________________________\n",
            "Layer (type)                 Output Shape              Param #   \n",
            "=================================================================\n",
            "input_2 (InputLayer)         (None, 224, 224, 3)       0         \n",
            "_________________________________________________________________\n",
            "conv2d_3 (Conv2D)            (None, 222, 222, 32)      896       \n",
            "_________________________________________________________________\n",
            "conv2d_4 (Conv2D)            (None, 220, 220, 64)      18496     \n",
            "=================================================================\n",
            "Total params: 19,392\n",
            "Trainable params: 19,392\n",
            "Non-trainable params: 0\n",
            "_________________________________________________________________\n"
          ],
          "name": "stdout"
        }
      ]
    },
    {
      "cell_type": "code",
      "metadata": {
        "id": "86nf-zln-p75",
        "colab_type": "code",
        "outputId": "3a47ff7f-8713-4279-857f-5fb7a4515d12",
        "colab": {
          "base_uri": "https://localhost:8080/",
          "height": 255
        }
      },
      "source": [
        "input_image = Input((224, 224, 3))\n",
        "feature_maps = SeparableConv2D(filters=32, kernel_size=(3,3))(input_image)\n",
        "feature_maps2 = SeparableConv2D(filters=64, kernel_size=(3,3))(feature_maps)\n",
        "model = Model(inputs=input_image, outputs=feature_maps2)\n",
        "\n",
        "model.summary()"
      ],
      "execution_count": 0,
      "outputs": [
        {
          "output_type": "stream",
          "text": [
            "Model: \"model_3\"\n",
            "_________________________________________________________________\n",
            "Layer (type)                 Output Shape              Param #   \n",
            "=================================================================\n",
            "input_4 (InputLayer)         (None, 224, 224, 3)       0         \n",
            "_________________________________________________________________\n",
            "separable_conv2d_1 (Separabl (None, 222, 222, 32)      155       \n",
            "_________________________________________________________________\n",
            "separable_conv2d_2 (Separabl (None, 220, 220, 64)      2400      \n",
            "=================================================================\n",
            "Total params: 2,555\n",
            "Trainable params: 2,555\n",
            "Non-trainable params: 0\n",
            "_________________________________________________________________\n"
          ],
          "name": "stdout"
        }
      ]
    },
    {
      "cell_type": "code",
      "metadata": {
        "id": "7eluXpWo_8Gx",
        "colab_type": "code",
        "colab": {}
      },
      "source": [
        "請閱讀 Keras 官方範例 mnist_cnn.py\n",
        "\n",
        "並回答下列問題。僅有 70 行程式碼，請確保每一行的程式碼你都能夠理解目的\n",
        "\n",
        "是否有對資料做標準化 (normalization)? 如果有，在哪幾行? Yes, from #26 to #33 and from #37 to #45\n",
        "使用的優化器 Optimizer 為何? on #60, it's the Adadelta()\n",
        "模型總共疊了幾層卷積層? #2 layers\n",
        "模型的參數量是多少? #3 major hyparameters"
      ],
      "execution_count": 0,
      "outputs": []
    }
  ]
}