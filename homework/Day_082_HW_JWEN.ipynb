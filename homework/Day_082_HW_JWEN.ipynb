{
  "nbformat": 4,
  "nbformat_minor": 0,
  "metadata": {
    "colab": {
      "name": "Day_082_HW_JWEN.ipynb",
      "provenance": [],
      "collapsed_sections": []
    },
    "kernelspec": {
      "name": "python3",
      "display_name": "Python 3"
    },
    "accelerator": "TPU"
  },
  "cells": [
    {
      "cell_type": "code",
      "metadata": {
        "id": "fg_RUJfdAYkc",
        "colab_type": "code",
        "colab": {}
      },
      "source": [
        "import os\n",
        "import keras\n",
        "\n",
        "os.environ['CUDA_VISIBLE_DEVICES']='0'"
      ],
      "execution_count": 0,
      "outputs": []
    },
    {
      "cell_type": "code",
      "metadata": {
        "id": "EehWRKXRAmmu",
        "colab_type": "code",
        "colab": {}
      },
      "source": [
        "train,test=keras.datasets.cifar10.load_data()"
      ],
      "execution_count": 0,
      "outputs": []
    },
    {
      "cell_type": "code",
      "metadata": {
        "id": "75r_OvaSAqoU",
        "colab_type": "code",
        "colab": {}
      },
      "source": [
        "def preproc_x(x,flatten=True):\n",
        "  x=x/255.\n",
        "  if flatten:\n",
        "    x=x.reshape((len(x),-1))\n",
        "  return x\n",
        "\n",
        "def preproc_y(y,num_classes=10):\n",
        "  if y.shape[-1]==1:\n",
        "    y=keras.utils.to_categorical(y,num_classes)\n",
        "  return y"
      ],
      "execution_count": 0,
      "outputs": []
    },
    {
      "cell_type": "code",
      "metadata": {
        "id": "tLWugVDLBBdr",
        "colab_type": "code",
        "colab": {}
      },
      "source": [
        "x_train,y_train=train\n",
        "x_test,y_test=test\n",
        "\n",
        "x_train=preproc_x(x_train)\n",
        "x_test=preproc_x(x_test)\n",
        "\n",
        "y_train=preproc_y(y_train)\n",
        "y_test=preproc_y(y_test)"
      ],
      "execution_count": 0,
      "outputs": []
    },
    {
      "cell_type": "code",
      "metadata": {
        "id": "VC59cF_4BQxX",
        "colab_type": "code",
        "colab": {}
      },
      "source": [
        "from keras.layers import Dropout\n",
        "\n",
        "def build_mlp(input_shape,output_units=10,num_neurons=[512,256,128],drp_ratio=0.2):\n",
        "  input_layer=keras.layers.Input(input_shape)\n",
        "\n",
        "  for i,n_units in enumerate(num_neurons):\n",
        "    if i==0:\n",
        "      x=keras.layers.Dense(units=n_units,activation='relu',name='hidden_layer'+str(i+1))(input_layer)\n",
        "      x=Dropout(drp_ratio)(x)\n",
        "    else:\n",
        "      x=keras.layers.Dense(units=n_units,activation='relu',name='hidden_layer'+str(i+1))(x)\n",
        "      x=Dropout(drp_ratio)(x)\n",
        "  out=keras.layers.Dense(units=output_units,activation='softmax',name='output')(x)\n",
        "\n",
        "  model=keras.models.Model(inputs=[input_layer],output=[out])\n",
        "  return model"
      ],
      "execution_count": 0,
      "outputs": []
    },
    {
      "cell_type": "code",
      "metadata": {
        "id": "Jw5XoXdwCZyC",
        "colab_type": "code",
        "colab": {}
      },
      "source": [
        "LEARNING_RATE=1e-3\n",
        "EPOCHS=50\n",
        "BATCH_SIZE=256\n",
        "MOMENTUM=0.95\n",
        "Dropout_EXP=0.3"
      ],
      "execution_count": 0,
      "outputs": []
    },
    {
      "cell_type": "code",
      "metadata": {
        "id": "MpQZh4gbCnS-",
        "colab_type": "code",
        "colab": {
          "base_uri": "https://localhost:8080/",
          "height": 1000
        },
        "outputId": "d4f5f73e-866b-486a-9c0a-2643f404a3ee"
      },
      "source": [
        "model=build_mlp(input_shape=x_train.shape[1:],drp_ratio=Dropout_EXP)\n",
        "model.summary()\n",
        "optimizer=keras.optimizers.Adam(lr=LEARNING_RATE,epsilon=None,decay=0.0)\n",
        "model.compile(loss='categorical_crossentropy',metrics=['accuracy'],optimizer=optimizer)\n",
        "\n",
        "model.fit(x_train,y_train,epochs=EPOCHS,batch_size=BATCH_SIZE,validation_data=(x_test,y_test),shuffle=True)\n",
        "\n",
        "train_loss=model.history.history['loss']\n",
        "valid_loss=model.history.history['val_loss']\n",
        "train_acc=model.history.history['acc']\n",
        "valid_acc=model.history.history['val_acc']"
      ],
      "execution_count": 14,
      "outputs": [
        {
          "output_type": "stream",
          "text": [
            "Model: \"model_2\"\n",
            "_________________________________________________________________\n",
            "Layer (type)                 Output Shape              Param #   \n",
            "=================================================================\n",
            "input_2 (InputLayer)         (None, 3072)              0         \n",
            "_________________________________________________________________\n",
            "hidden_layer1 (Dense)        (None, 512)               1573376   \n",
            "_________________________________________________________________\n",
            "dropout_4 (Dropout)          (None, 512)               0         \n",
            "_________________________________________________________________\n",
            "hidden_layer2 (Dense)        (None, 256)               131328    \n",
            "_________________________________________________________________\n",
            "dropout_5 (Dropout)          (None, 256)               0         \n",
            "_________________________________________________________________\n",
            "hidden_layer3 (Dense)        (None, 128)               32896     \n",
            "_________________________________________________________________\n",
            "dropout_6 (Dropout)          (None, 128)               0         \n",
            "_________________________________________________________________\n",
            "output (Dense)               (None, 10)                1290      \n",
            "=================================================================\n",
            "Total params: 1,738,890\n",
            "Trainable params: 1,738,890\n",
            "Non-trainable params: 0\n",
            "_________________________________________________________________\n",
            "WARNING:tensorflow:From /usr/local/lib/python3.6/dist-packages/keras/optimizers.py:793: The name tf.train.Optimizer is deprecated. Please use tf.compat.v1.train.Optimizer instead.\n",
            "\n",
            "WARNING:tensorflow:From /usr/local/lib/python3.6/dist-packages/keras/backend/tensorflow_backend.py:3576: The name tf.log is deprecated. Please use tf.math.log instead.\n",
            "\n",
            "WARNING:tensorflow:From /usr/local/lib/python3.6/dist-packages/tensorflow_core/python/ops/math_grad.py:1424: where (from tensorflow.python.ops.array_ops) is deprecated and will be removed in a future version.\n",
            "Instructions for updating:\n",
            "Use tf.where in 2.0, which has the same broadcast rule as np.where\n"
          ],
          "name": "stdout"
        },
        {
          "output_type": "stream",
          "text": [
            "/usr/local/lib/python3.6/dist-packages/ipykernel_launcher.py:15: UserWarning: Update your `Model` call to the Keras 2 API: `Model(inputs=[<tf.Tenso..., outputs=[<tf.Tenso...)`\n",
            "  from ipykernel import kernelapp as app\n"
          ],
          "name": "stderr"
        },
        {
          "output_type": "stream",
          "text": [
            "WARNING:tensorflow:From /usr/local/lib/python3.6/dist-packages/keras/backend/tensorflow_backend.py:1033: The name tf.assign_add is deprecated. Please use tf.compat.v1.assign_add instead.\n",
            "\n",
            "WARNING:tensorflow:From /usr/local/lib/python3.6/dist-packages/keras/backend/tensorflow_backend.py:1020: The name tf.assign is deprecated. Please use tf.compat.v1.assign instead.\n",
            "\n",
            "WARNING:tensorflow:From /usr/local/lib/python3.6/dist-packages/keras/backend/tensorflow_backend.py:3005: The name tf.Session is deprecated. Please use tf.compat.v1.Session instead.\n",
            "\n",
            "Train on 50000 samples, validate on 10000 samples\n",
            "Epoch 1/50\n",
            "WARNING:tensorflow:From /usr/local/lib/python3.6/dist-packages/keras/backend/tensorflow_backend.py:190: The name tf.get_default_session is deprecated. Please use tf.compat.v1.get_default_session instead.\n",
            "\n",
            "WARNING:tensorflow:From /usr/local/lib/python3.6/dist-packages/keras/backend/tensorflow_backend.py:197: The name tf.ConfigProto is deprecated. Please use tf.compat.v1.ConfigProto instead.\n",
            "\n",
            "WARNING:tensorflow:From /usr/local/lib/python3.6/dist-packages/keras/backend/tensorflow_backend.py:207: The name tf.global_variables is deprecated. Please use tf.compat.v1.global_variables instead.\n",
            "\n",
            "WARNING:tensorflow:From /usr/local/lib/python3.6/dist-packages/keras/backend/tensorflow_backend.py:216: The name tf.is_variable_initialized is deprecated. Please use tf.compat.v1.is_variable_initialized instead.\n",
            "\n",
            "WARNING:tensorflow:From /usr/local/lib/python3.6/dist-packages/keras/backend/tensorflow_backend.py:223: The name tf.variables_initializer is deprecated. Please use tf.compat.v1.variables_initializer instead.\n",
            "\n",
            "50000/50000 [==============================] - 14s 286us/step - loss: 2.0914 - acc: 0.2223 - val_loss: 1.8709 - val_acc: 0.3335\n",
            "Epoch 2/50\n",
            "50000/50000 [==============================] - 14s 271us/step - loss: 1.9273 - acc: 0.2916 - val_loss: 1.8477 - val_acc: 0.3413\n",
            "Epoch 3/50\n",
            "50000/50000 [==============================] - 14s 270us/step - loss: 1.8828 - acc: 0.3116 - val_loss: 1.7804 - val_acc: 0.3657\n",
            "Epoch 4/50\n",
            "50000/50000 [==============================] - 13s 265us/step - loss: 1.8412 - acc: 0.3281 - val_loss: 1.7680 - val_acc: 0.3848\n",
            "Epoch 5/50\n",
            "50000/50000 [==============================] - 13s 269us/step - loss: 1.8141 - acc: 0.3388 - val_loss: 1.7206 - val_acc: 0.3983\n",
            "Epoch 6/50\n",
            "50000/50000 [==============================] - 13s 267us/step - loss: 1.7884 - acc: 0.3492 - val_loss: 1.7078 - val_acc: 0.3924\n",
            "Epoch 7/50\n",
            "50000/50000 [==============================] - 13s 267us/step - loss: 1.7693 - acc: 0.3573 - val_loss: 1.6924 - val_acc: 0.4032\n",
            "Epoch 8/50\n",
            "50000/50000 [==============================] - 13s 266us/step - loss: 1.7493 - acc: 0.3651 - val_loss: 1.6762 - val_acc: 0.4210\n",
            "Epoch 9/50\n",
            "50000/50000 [==============================] - 13s 267us/step - loss: 1.7480 - acc: 0.3677 - val_loss: 1.6774 - val_acc: 0.4049\n",
            "Epoch 10/50\n",
            "50000/50000 [==============================] - 13s 267us/step - loss: 1.7329 - acc: 0.3714 - val_loss: 1.6770 - val_acc: 0.4109\n",
            "Epoch 11/50\n",
            "50000/50000 [==============================] - 13s 267us/step - loss: 1.7226 - acc: 0.3771 - val_loss: 1.6500 - val_acc: 0.4200\n",
            "Epoch 12/50\n",
            "50000/50000 [==============================] - 14s 270us/step - loss: 1.7128 - acc: 0.3801 - val_loss: 1.6459 - val_acc: 0.4260\n",
            "Epoch 13/50\n",
            "50000/50000 [==============================] - 13s 266us/step - loss: 1.7043 - acc: 0.3839 - val_loss: 1.6277 - val_acc: 0.4310\n",
            "Epoch 14/50\n",
            "50000/50000 [==============================] - 13s 267us/step - loss: 1.6997 - acc: 0.3837 - val_loss: 1.6417 - val_acc: 0.4177\n",
            "Epoch 15/50\n",
            "50000/50000 [==============================] - 13s 268us/step - loss: 1.6953 - acc: 0.3869 - val_loss: 1.6214 - val_acc: 0.4307\n",
            "Epoch 16/50\n",
            "50000/50000 [==============================] - 13s 267us/step - loss: 1.6787 - acc: 0.3915 - val_loss: 1.6227 - val_acc: 0.4259\n",
            "Epoch 17/50\n",
            "50000/50000 [==============================] - 13s 268us/step - loss: 1.6788 - acc: 0.3941 - val_loss: 1.6452 - val_acc: 0.4251\n",
            "Epoch 18/50\n",
            "50000/50000 [==============================] - 13s 269us/step - loss: 1.6811 - acc: 0.3908 - val_loss: 1.6159 - val_acc: 0.4206\n",
            "Epoch 19/50\n",
            "50000/50000 [==============================] - 13s 267us/step - loss: 1.6699 - acc: 0.3969 - val_loss: 1.6028 - val_acc: 0.4376\n",
            "Epoch 20/50\n",
            "50000/50000 [==============================] - 13s 265us/step - loss: 1.6642 - acc: 0.4017 - val_loss: 1.5926 - val_acc: 0.4375\n",
            "Epoch 21/50\n",
            "50000/50000 [==============================] - 13s 269us/step - loss: 1.6670 - acc: 0.3971 - val_loss: 1.5856 - val_acc: 0.4409\n",
            "Epoch 22/50\n",
            "50000/50000 [==============================] - 13s 267us/step - loss: 1.6605 - acc: 0.3994 - val_loss: 1.6171 - val_acc: 0.4347\n",
            "Epoch 23/50\n",
            "50000/50000 [==============================] - 13s 267us/step - loss: 1.6536 - acc: 0.4012 - val_loss: 1.5769 - val_acc: 0.4459\n",
            "Epoch 24/50\n",
            "50000/50000 [==============================] - 13s 266us/step - loss: 1.6614 - acc: 0.4005 - val_loss: 1.6048 - val_acc: 0.4350\n",
            "Epoch 25/50\n",
            "50000/50000 [==============================] - 14s 271us/step - loss: 1.6484 - acc: 0.4029 - val_loss: 1.5830 - val_acc: 0.4474\n",
            "Epoch 26/50\n",
            "50000/50000 [==============================] - 13s 265us/step - loss: 1.6426 - acc: 0.4089 - val_loss: 1.6113 - val_acc: 0.4313\n",
            "Epoch 27/50\n",
            "50000/50000 [==============================] - 13s 264us/step - loss: 1.6393 - acc: 0.4067 - val_loss: 1.5816 - val_acc: 0.4473\n",
            "Epoch 28/50\n",
            "50000/50000 [==============================] - 13s 266us/step - loss: 1.6310 - acc: 0.4103 - val_loss: 1.5757 - val_acc: 0.4438\n",
            "Epoch 29/50\n",
            "50000/50000 [==============================] - 13s 266us/step - loss: 1.6372 - acc: 0.4065 - val_loss: 1.6063 - val_acc: 0.4375\n",
            "Epoch 30/50\n",
            "50000/50000 [==============================] - 13s 267us/step - loss: 1.6295 - acc: 0.4121 - val_loss: 1.5576 - val_acc: 0.4546\n",
            "Epoch 31/50\n",
            "50000/50000 [==============================] - 13s 265us/step - loss: 1.6275 - acc: 0.4147 - val_loss: 1.5666 - val_acc: 0.4516\n",
            "Epoch 32/50\n",
            "50000/50000 [==============================] - 13s 270us/step - loss: 1.6244 - acc: 0.4145 - val_loss: 1.6008 - val_acc: 0.4375\n",
            "Epoch 33/50\n",
            "50000/50000 [==============================] - 13s 266us/step - loss: 1.6207 - acc: 0.4154 - val_loss: 1.5527 - val_acc: 0.4538\n",
            "Epoch 34/50\n",
            "50000/50000 [==============================] - 13s 268us/step - loss: 1.6158 - acc: 0.4158 - val_loss: 1.5640 - val_acc: 0.4512\n",
            "Epoch 35/50\n",
            "50000/50000 [==============================] - 13s 268us/step - loss: 1.6185 - acc: 0.4171 - val_loss: 1.5235 - val_acc: 0.4622\n",
            "Epoch 36/50\n",
            "50000/50000 [==============================] - 13s 268us/step - loss: 1.6043 - acc: 0.4219 - val_loss: 1.5604 - val_acc: 0.4502\n",
            "Epoch 37/50\n",
            "50000/50000 [==============================] - 13s 265us/step - loss: 1.6030 - acc: 0.4235 - val_loss: 1.5560 - val_acc: 0.4602\n",
            "Epoch 38/50\n",
            "50000/50000 [==============================] - 13s 264us/step - loss: 1.6027 - acc: 0.4242 - val_loss: 1.5438 - val_acc: 0.4597\n",
            "Epoch 39/50\n",
            "50000/50000 [==============================] - 13s 269us/step - loss: 1.6030 - acc: 0.4212 - val_loss: 1.5402 - val_acc: 0.4516\n",
            "Epoch 40/50\n",
            "50000/50000 [==============================] - 13s 265us/step - loss: 1.5972 - acc: 0.4201 - val_loss: 1.5425 - val_acc: 0.4594\n",
            "Epoch 41/50\n",
            "50000/50000 [==============================] - 14s 270us/step - loss: 1.5977 - acc: 0.4244 - val_loss: 1.5963 - val_acc: 0.4284\n",
            "Epoch 42/50\n",
            "50000/50000 [==============================] - 13s 266us/step - loss: 1.5969 - acc: 0.4266 - val_loss: 1.5424 - val_acc: 0.4592\n",
            "Epoch 43/50\n",
            "50000/50000 [==============================] - 13s 269us/step - loss: 1.5973 - acc: 0.4259 - val_loss: 1.5298 - val_acc: 0.4645\n",
            "Epoch 44/50\n",
            "50000/50000 [==============================] - 13s 267us/step - loss: 1.5924 - acc: 0.4249 - val_loss: 1.5437 - val_acc: 0.4577\n",
            "Epoch 45/50\n",
            "50000/50000 [==============================] - 13s 269us/step - loss: 1.5974 - acc: 0.4224 - val_loss: 1.5234 - val_acc: 0.4629\n",
            "Epoch 46/50\n",
            "50000/50000 [==============================] - 13s 268us/step - loss: 1.5947 - acc: 0.4255 - val_loss: 1.5084 - val_acc: 0.4664\n",
            "Epoch 47/50\n",
            "50000/50000 [==============================] - 13s 268us/step - loss: 1.5995 - acc: 0.4237 - val_loss: 1.5530 - val_acc: 0.4604\n",
            "Epoch 48/50\n",
            "50000/50000 [==============================] - 14s 277us/step - loss: 1.5822 - acc: 0.4287 - val_loss: 1.5288 - val_acc: 0.4650\n",
            "Epoch 49/50\n",
            "50000/50000 [==============================] - 13s 268us/step - loss: 1.5888 - acc: 0.4246 - val_loss: 1.5351 - val_acc: 0.4584\n",
            "Epoch 50/50\n",
            "50000/50000 [==============================] - 13s 267us/step - loss: 1.5801 - acc: 0.4299 - val_loss: 1.5343 - val_acc: 0.4610\n"
          ],
          "name": "stdout"
        }
      ]
    },
    {
      "cell_type": "code",
      "metadata": {
        "id": "Rh_8tvGSDYi4",
        "colab_type": "code",
        "colab": {
          "base_uri": "https://localhost:8080/",
          "height": 545
        },
        "outputId": "01084576-f9f6-4a75-a04f-bd9620d36d08"
      },
      "source": [
        "import matplotlib.pyplot as plt\n",
        "%matplotlib inline\n",
        "\n",
        "plt.plot(range(len(train_loss)),train_loss,label='train loss')\n",
        "plt.plot(range(len(valid_loss)),valid_loss,label='valid loss')\n",
        "plt.legend()\n",
        "plt.title('LOSS')\n",
        "plt.show()\n",
        "\n",
        "plt.plot(range(len(train_acc)),train_acc,label='train accuracy')\n",
        "plt.plot(range(len(valid_acc)),valid_acc,label='valid acc')\n",
        "plt.legend()\n",
        "plt.title('ACCURACY')\n",
        "plt.show()"
      ],
      "execution_count": 15,
      "outputs": [
        {
          "output_type": "display_data",
          "data": {
            "image/png": "[encoded data removed]",
            "text/plain": [
              "<Figure size 432x288 with 1 Axes>"
            ]
          },
          "metadata": {
            "tags": []
          }
        },
        {
          "output_type": "display_data",
          "data": {
            "image/png": "[encoded data removed]",
            "text/plain": [
              "<Figure size 432x288 with 1 Axes>"
            ]
          },
          "metadata": {
            "tags": []
          }
        }
      ]
    }
  ]
}