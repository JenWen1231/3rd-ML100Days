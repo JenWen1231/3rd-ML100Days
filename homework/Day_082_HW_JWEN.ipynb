{
  "nbformat": 4,
  "nbformat_minor": 0,
  "metadata": {
    "colab": {
      "name": "Day_082_HW_JWEN.ipynb",
      "provenance": [],
      "collapsed_sections": []
    },
    "kernelspec": {
      "name": "python3",
      "display_name": "Python 3"
    }
  },
  "cells": [
    {
      "cell_type": "code",
      "metadata": {
        "id": "fg_RUJfdAYkc",
        "colab_type": "code",
        "colab": {}
      },
      "source": [
        "import os\n",
        "import keras\n",
        "\n",
        "os.environ['CUDA_VISIBLE_DEVICES']='0'"
      ],
      "execution_count": 0,
      "outputs": []
    },
    {
      "cell_type": "code",
      "metadata": {
        "id": "EehWRKXRAmmu",
        "colab_type": "code",
        "colab": {}
      },
      "source": [
        "train,test=keras.datasets.cifar10.load_data()"
      ],
      "execution_count": 0,
      "outputs": []
    },
    {
      "cell_type": "code",
      "metadata": {
        "id": "75r_OvaSAqoU",
        "colab_type": "code",
        "colab": {}
      },
      "source": [
        "def preproc_x(x,flatten=True):\n",
        "  x=x/255.\n",
        "  if flatten:\n",
        "    x=x.reshape((len(x),-1))\n",
        "  return x\n",
        "\n",
        "def preproc_y(y,num_classes=10):\n",
        "  if y.shape[-1]==1:\n",
        "    y=keras.utils.to_categorical(y,num_classes)\n",
        "  return y"
      ],
      "execution_count": 0,
      "outputs": []
    },
    {
      "cell_type": "code",
      "metadata": {
        "id": "tLWugVDLBBdr",
        "colab_type": "code",
        "colab": {}
      },
      "source": [
        "x_train,y_train=train\n",
        "x_test,y_test=test\n",
        "\n",
        "x_train=preproc_x(x_train)\n",
        "x_test=preproc_x(x_test)\n",
        "\n",
        "y_train=preproc_y(y_train)\n",
        "y_test=preproc_y(y_test)"
      ],
      "execution_count": 0,
      "outputs": []
    },
    {
      "cell_type": "code",
      "metadata": {
        "id": "VC59cF_4BQxX",
        "colab_type": "code",
        "colab": {}
      },
      "source": [
        "from keras.layers import Dropout\n",
        "\n",
        "def build_mlp(input_shape,output_units=10,num_neuron=[512,256,128],drp_ratio=0.2):\n",
        "  input_layer=keras.layers.Input(input_shape)\n",
        "\n",
        "  for i,n_units in enumerate(num_neurons):\n",
        "    if i==0:\n",
        "      x=keras.layers.Dense(units=n_units,activation='relu',name='hidden_layer'+str(i+1))(input_layer)\n",
        "      x=Dropout(drp_ratio)(x)\n",
        "    else:\n",
        "      x=keras.layers.Dense(units=n_units,activation='relu',name='hidden_layer'+str(i+1))(x)\n",
        "      x=Dropout(drp_ratio)(x)\n",
        "  out=keras.layers.Dense(units=output_units,activation='softmax',name='output')(x)\n",
        "\n",
        "  model=keras.models.Model(inputs=[input_layer],output=[out])\n",
        "  return model"
      ],
      "execution_count": 0,
      "outputs": []
    },
    {
      "cell_type": "code",
      "metadata": {
        "id": "Jw5XoXdwCZyC",
        "colab_type": "code",
        "colab": {}
      },
      "source": [
        "LEARNING_RATE=1e-3\n",
        "EPOCHS=50\n",
        "BATCH_SIZE=256\n",
        "MOMENTUM=0.95\n",
        "Dropout_EXP=0.3"
      ],
      "execution_count": 0,
      "outputs": []
    },
    {
      "cell_type": "code",
      "metadata": {
        "id": "MpQZh4gbCnS-",
        "colab_type": "code",
        "colab": {}
      },
      "source": [
        "model=build_mlp(input_shape=x_train.shape[1:],drp_ratio=Dropout_EXP)\n",
        "model.summary()\n",
        "optimizer=keras.optimizers.Adam(lr=LEARNING_RATE,nesterov=True,momentum=MOMENTUM)\n",
        "model.compile(loss='categorical_crossentropy',metrics=['accuracy'],optimizer=optimizer)\n",
        "\n",
        "model.fit(x_train,y_train,epochs=EPOCHS,batch_size=BATCH_SIZE,validation_data=(x_test,y_test),shuffle=True)\n",
        "\n",
        "train_loss=model.history.history['loss']\n",
        "valid_loss=model.history.history['val_loss']\n",
        "train_acc=model.history.history['acc']\n",
        "valid_acc=model.history.history['val_acc']"
      ],
      "execution_count": 0,
      "outputs": []
    },
    {
      "cell_type": "code",
      "metadata": {
        "id": "Rh_8tvGSDYi4",
        "colab_type": "code",
        "colab": {}
      },
      "source": [
        "import matplotlib.pyplot as plt\n",
        "%matplotlib inline\n",
        "\n",
        "plt.plot(range(len(train_loss)),train_loss,label='train loss')\n",
        "plt.plot(range(len(valid_loss)),valid_loss,label='valid loss')\n",
        "plt.legend()\n",
        "plt.title('LOSS')\n",
        "plt.shwo()\n",
        "\n",
        "plt.plot(range(len(train_acc)),train_acc,label='train accuracy')\n",
        "plt.plot(range(len(valid_acc)),valid_acc,label='valid acc')\n",
        "plt.legend()\n",
        "plt.title('ACCURACY')\n",
        "plt.shwo()"
      ],
      "execution_count": 0,
      "outputs": []
    }
  ]
}