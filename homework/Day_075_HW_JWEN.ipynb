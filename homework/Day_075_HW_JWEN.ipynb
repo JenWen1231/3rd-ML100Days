{
  "nbformat": 4,
  "nbformat_minor": 0,
  "metadata": {
    "colab": {
      "name": "Day_075_HW_JWEN.ipynb",
      "provenance": [],
      "collapsed_sections": []
    },
    "kernelspec": {
      "name": "python3",
      "display_name": "Python 3"
    },
    "accelerator": "GPU"
  },
  "cells": [
    {
      "cell_type": "code",
      "metadata": {
        "id": "_oL74k2p8u3d",
        "colab_type": "code",
        "colab": {}
      },
      "source": [
        "import numpy as np\n",
        "\n",
        "def nonlin(x,deriv=False):\n",
        "  if(deriv==False):\n",
        "    return x*(1-x)\n",
        "  return 1/(1+np.exp(-x))\n",
        "\n",
        "X=np.array([[0,0,1],[0,1,1],[1,0,1],[1,1,1]])\n",
        "y=np.array([[0,0,1,1]]).T"
      ],
      "execution_count": 0,
      "outputs": []
    },
    {
      "cell_type": "code",
      "metadata": {
        "id": "GgBSbgNU9tg3",
        "colab_type": "code",
        "colab": {}
      },
      "source": [
        "np.random.seed(1)\n",
        "syn0=2*np.random.random((3,1))-1\n",
        "syn1=2*syn0-1\n",
        "iter=0\n",
        "syn0_history=[syn0]\n",
        "syn1_history=[syn1]"
      ],
      "execution_count": 0,
      "outputs": []
    },
    {
      "cell_type": "code",
      "metadata": {
        "id": "57OFpkJs94Me",
        "colab_type": "code",
        "colab": {
          "base_uri": "https://localhost:8080/",
          "height": 204
        },
        "outputId": "ce296074-440c-4d51-dbc7-9bbe2e12b458"
      },
      "source": [
        "for iter in range(10000):\n",
        "  l0=X\n",
        "  l1=nonlin(np.dot(l0,syn0))\n",
        "  l1_error=y=l1\n",
        "  l1_delta=l1_error*nonlin(l1,True)\n",
        "\n",
        "  l2=nonlin(np.dot(l0,syn1))\n",
        "  l2_error=y-l2\n",
        "  l2_delta=l2_error*nonlin(l2,True)\n",
        "\n",
        "  syn0+=np.dot(l0.T,l1_delta)\n",
        "  syn1+=np.dot(l0.T,l2_delta)\n",
        "\n",
        "print('Output After Training:')\n",
        "print('L1:',l1)\n",
        "print('\\n')\n",
        "print('L2:',l2)"
      ],
      "execution_count": 5,
      "outputs": [
        {
          "output_type": "stream",
          "text": [
            "Output After Training:\n",
            "L1: [[-13.83369934]\n",
            " [-16.53957076]\n",
            " [-19.18698724]\n",
            " [-22.34502287]]\n",
            "\n",
            "\n",
            "L2: [[-12.46138853]\n",
            " [-13.61676591]\n",
            " [-23.73266604]\n",
            " [-25.31027711]]\n"
          ],
          "name": "stdout"
        }
      ]
    },
    {
      "cell_type": "code",
      "metadata": {
        "id": "AuKfExrqASOE",
        "colab_type": "code",
        "colab": {
          "base_uri": "https://localhost:8080/",
          "height": 285
        },
        "outputId": "20ad174d-16bb-4b15-f251-d609d2a24add"
      },
      "source": [
        "import matplotlib.pyplot as plt\n",
        "%matplotlib inline\n",
        "\n",
        "plt.plot(syn0_history[0],ms=3,lw=1.5,color='black')\n",
        "plt.plot(syn1_history[0],ms=3,lw=1.5,color='red')\n",
        "plt.xlabel(r'$L1$',fontsize=16)\n",
        "plt.text(1.5,-0.8,r'$black: Syn0; red: Syn1$')\n",
        "plt.show()"
      ],
      "execution_count": 10,
      "outputs": [
        {
          "output_type": "display_data",
          "data": {
            "image/png": "[encoded data removed]",
            "text/plain": [
              "<Figure size 432x288 with 1 Axes>"
            ]
          },
          "metadata": {
            "tags": []
          }
        }
      ]
    }
  ]
}